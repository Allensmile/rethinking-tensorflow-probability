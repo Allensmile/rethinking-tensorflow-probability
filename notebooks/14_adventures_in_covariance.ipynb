{
 "cells": [
  {
   "cell_type": "markdown",
   "metadata": {},
   "source": [
    "[![Open In Colab](https://colab.research.google.com/assets/colab-badge.svg)](https://colab.research.google.com/github/ksachdeva/rethinking-tensorflow-probability/blob/master/notebooks/14_adventures_in_covariance.ipynb)"
   ]
  },
  {
   "cell_type": "markdown",
   "metadata": {},
   "source": [
    "# Chapter 14 - Adventures in Covariance\n"
   ]
  },
  {
   "cell_type": "markdown",
   "metadata": {},
   "source": [
    "## Imports and utility functions\n"
   ]
  },
  {
   "cell_type": "code",
   "execution_count": 1,
   "metadata": {},
   "outputs": [],
   "source": [
    "# Install packages that are not installed in colab\n",
    "try:\n",
    "  import google.colab\n",
    "  IN_COLAB = True\n",
    "except:\n",
    "  IN_COLAB = False\n",
    "\n",
    "if IN_COLAB:\n",
    "    %tensorflow_version 2.X\n",
    "    \n",
    "    !pip install watermark\n",
    "    !pip install arviz"
   ]
  },
  {
   "cell_type": "code",
   "execution_count": 2,
   "metadata": {},
   "outputs": [],
   "source": [
    "%load_ext watermark"
   ]
  },
  {
   "cell_type": "code",
   "execution_count": 3,
   "metadata": {},
   "outputs": [],
   "source": [
    "# Core\n",
    "import numpy as np\n",
    "import arviz as az\n",
    "import pandas as pd\n",
    "import xarray as xr\n",
    "import tensorflow as tf\n",
    "import tensorflow_probability as tfp\n",
    "\n",
    "# visualization \n",
    "import matplotlib.pyplot as plt\n",
    "\n",
    "# aliases\n",
    "tfd = tfp.distributions\n",
    "tfb = tfp.bijectors\n",
    "Root = tfd.JointDistributionCoroutine.Root"
   ]
  },
  {
   "cell_type": "code",
   "execution_count": 4,
   "metadata": {},
   "outputs": [
    {
     "name": "stdout",
     "output_type": "stream",
     "text": [
      "numpy 1.18.1\n",
      "tensorflow 2.1.0\n",
      "tensorflow_probability 0.9.0\n",
      "arviz 0.6.1\n",
      "scipy 1.4.1\n",
      "pandas 0.25.3\n"
     ]
    }
   ],
   "source": [
    "%watermark -p numpy,tensorflow,tensorflow_probability,arviz,scipy,pandas"
   ]
  },
  {
   "cell_type": "code",
   "execution_count": 5,
   "metadata": {},
   "outputs": [],
   "source": [
    "# config of various plotting libraries\n",
    "%config InlineBackend.figure_format = 'retina'\n",
    "az.style.use('arviz-darkgrid')"
   ]
  },
  {
   "cell_type": "code",
   "execution_count": 6,
   "metadata": {},
   "outputs": [],
   "source": [
    "assert tf.__version__ >= '2.1.0', \"Tensorflow version should be at minimum 2.1.0\"\n",
    "assert tfp.__version__ >= '0.9.0', \"TFP version should be at minimum 0.9.0\""
   ]
  },
  {
   "cell_type": "markdown",
   "metadata": {},
   "source": [
    "## Tensorflow MCMC Sampling helpers\n"
   ]
  },
  {
   "cell_type": "code",
   "execution_count": 7,
   "metadata": {},
   "outputs": [],
   "source": [
    "USE_XLA = False"
   ]
  },
  {
   "cell_type": "code",
   "execution_count": 8,
   "metadata": {},
   "outputs": [],
   "source": [
    "NUMBER_OF_CHAINS  = 2\n",
    "NUMBER_OF_BURNIN  = 500\n",
    "NUMBER_OF_SAMPLES = 500\n",
    "NUMBER_OF_LEAPFROG_STEPS = 4\n",
    "\n",
    "def _trace_to_arviz(trace=None,\n",
    "                   sample_stats=None,\n",
    "                   observed_data=None,\n",
    "                   prior_predictive=None,\n",
    "                   posterior_predictive=None,\n",
    "                   inplace=True):\n",
    "\n",
    "    if trace is not None and isinstance(trace, dict):\n",
    "        trace = {k: np.swapaxes(v.numpy(), 1, 0)\n",
    "                 for k, v in trace.items()}\n",
    "    if sample_stats is not None and isinstance(sample_stats, dict):\n",
    "        sample_stats = {k: v.numpy().T for k, v in sample_stats.items()}\n",
    "    if prior_predictive is not None and isinstance(prior_predictive, dict):\n",
    "        prior_predictive = {k: v[np.newaxis]\n",
    "                            for k, v in prior_predictive.items()}\n",
    "    if posterior_predictive is not None and isinstance(posterior_predictive, dict):\n",
    "        if isinstance(trace, az.InferenceData) and inplace == True:\n",
    "            return trace + az.from_dict(posterior_predictive=posterior_predictive)\n",
    "        else:\n",
    "            trace = None\n",
    "            \n",
    "    # when we are using a single chain\n",
    "    # arviz messes up the number of chain\n",
    "    #\n",
    "    # so here I am providing the coords\n",
    "\n",
    "    return az.from_dict(\n",
    "        posterior=trace,\n",
    "        sample_stats=sample_stats,\n",
    "        prior_predictive=prior_predictive,\n",
    "        posterior_predictive=posterior_predictive,\n",
    "        observed_data=observed_data)\n",
    "\n",
    "\n",
    "class HMCSampler(object):\n",
    "\n",
    "    @tf.function(autograph=False, experimental_compile=USE_XLA)\n",
    "    def run_chain(init_state,\n",
    "                  bijectors, \n",
    "                  step_size, \n",
    "                  target_log_prob_fn, \n",
    "                  num_leapfrog_steps=NUMBER_OF_LEAPFROG_STEPS,\n",
    "                  num_samples=NUMBER_OF_SAMPLES,\n",
    "                  burnin=NUMBER_OF_BURNIN,\n",
    "                  ):    \n",
    "\n",
    "        def _trace_fn_transitioned(_, pkr):\n",
    "            return (\n",
    "                pkr.inner_results.inner_results.log_accept_ratio\n",
    "            )\n",
    "        \n",
    "        hmc_kernel = tfp.mcmc.HamiltonianMonteCarlo(\n",
    "                        target_log_prob_fn,\n",
    "                        num_leapfrog_steps=num_leapfrog_steps,\n",
    "                        step_size=step_size)         \n",
    "\n",
    "        inner_kernel = tfp.mcmc.TransformedTransitionKernel(\n",
    "            inner_kernel=hmc_kernel,\n",
    "            bijector=bijectors)       \n",
    "\n",
    "        kernel = tfp.mcmc.SimpleStepSizeAdaptation(\n",
    "            inner_kernel=inner_kernel,\n",
    "            target_accept_prob=.8,\n",
    "            num_adaptation_steps=int(0.8*burnin),\n",
    "            log_accept_prob_getter_fn=lambda pkr: pkr.inner_results.log_accept_ratio\n",
    "        )    \n",
    "\n",
    "        results, sampler_stat = tfp.mcmc.sample_chain(\n",
    "            num_results=num_samples,\n",
    "            num_burnin_steps=burnin,\n",
    "            current_state=init_state,\n",
    "            kernel=kernel,\n",
    "            trace_fn=_trace_fn_transitioned)\n",
    "\n",
    "        return results, sampler_stat\n",
    "    \n",
    "    def sample_from_posterior(jdc, \n",
    "                              observed_data, \n",
    "                              params, \n",
    "                              init_state, \n",
    "                              bijectors,                              \n",
    "                              num_samples=NUMBER_OF_SAMPLES, \n",
    "                              burnin=NUMBER_OF_BURNIN):       \n",
    "\n",
    "        \n",
    "        target_log_prob_fn = lambda *x: jdc.log_prob(x + observed_data)    \n",
    "\n",
    "        step_size = 0.1\n",
    "        \n",
    "        results, sample_stats = HMCSampler.run_chain(init_state,\n",
    "                                      bijectors,\n",
    "                                      step_size=step_size,\n",
    "                                      target_log_prob_fn=target_log_prob_fn,                                      \n",
    "                                      num_samples=num_samples, \n",
    "                                      burnin=burnin)\n",
    "\n",
    "        stat_names = ['mean_tree_accept']\n",
    "        sampler_stats = dict(zip(stat_names, [sample_stats]))    \n",
    "        \n",
    "        posterior = dict(zip(params, results))\n",
    "        \n",
    "        return _trace_to_arviz(trace=posterior, sample_stats=sampler_stats)"
   ]
  },
  {
   "cell_type": "code",
   "execution_count": 9,
   "metadata": {},
   "outputs": [],
   "source": [
    "sample_from_posterior = HMCSampler.sample_from_posterior"
   ]
  },
  {
   "cell_type": "markdown",
   "metadata": {},
   "source": [
    "## Dataset URLs\n"
   ]
  },
  {
   "cell_type": "code",
   "execution_count": 10,
   "metadata": {},
   "outputs": [],
   "source": [
    "# You could change base url to local dir or a remoate raw github content\n",
    "_BASE_URL = \"https://raw.githubusercontent.com/ksachdeva/rethinking-tensorflow-probability/master/data\"\n",
    "\n",
    "CHIMPANZEE_DATASET_PATH = f\"{_BASE_URL}/chimpanzees.csv\"\n",
    "KOSTER_LECKIE_DATASET_PATH = f\"{_BASE_URL}/KosterLeckie.csv\"\n",
    "ISLANDS_DISTMATRIX_DATASET_PATH = f\"{_BASE_URL}/islandsDistMatrix.csv\"\n",
    "KLINE_DATASET_PATH = f\"{_BASE_URL}/Kline2.csv\"\n",
    "PRIMATES301_DATASET_PATH = f\"{_BASE_URL}/Primates301.csv\"\n",
    "PRIMATES301_VCOV_DATASET_PATH = f\"{_BASE_URL}/Primates301_vcov_matrix.csv\"\n",
    "PRIMATES301_DISTANCE_DATASET_PATH = f\"{_BASE_URL}/Primates301_distance_matrix.csv\""
   ]
  },
  {
   "cell_type": "markdown",
   "metadata": {},
   "source": [
    "## Code 14.1\n",
    "\n",
    "Simulate the population"
   ]
  },
  {
   "cell_type": "code",
   "execution_count": 11,
   "metadata": {},
   "outputs": [],
   "source": [
    "a = 3.5  # average morning wait time\n",
    "b = -1  # average difference afternoon wait time\n",
    "sigma_a = 1  # std dev in intercepts\n",
    "sigma_b = 0.5  # std dev in slopes\n",
    "rho = -0.7  # correlation between intercepts and slopes"
   ]
  },
  {
   "cell_type": "markdown",
   "metadata": {},
   "source": [
    "## Code 14.2"
   ]
  },
  {
   "cell_type": "code",
   "execution_count": 12,
   "metadata": {},
   "outputs": [],
   "source": [
    "Mu = tf.constant([a, b])"
   ]
  },
  {
   "cell_type": "markdown",
   "metadata": {},
   "source": [
    "The value in a is the mean intercept, the wait in the morning. And the value in b is the mean slope, the difference in wait between afternoon and morning"
   ]
  },
  {
   "cell_type": "markdown",
   "metadata": {},
   "source": [
    "## Code 14.3"
   ]
  },
  {
   "cell_type": "code",
   "execution_count": 13,
   "metadata": {},
   "outputs": [],
   "source": [
    "cov_ab = sigma_a * sigma_b * rho\n",
    "Sigma = tf.constant([[sigma_a ** 2, cov_ab], [cov_ab, sigma_b ** 2]])"
   ]
  },
  {
   "cell_type": "markdown",
   "metadata": {},
   "source": [
    "## Code 14.4"
   ]
  },
  {
   "cell_type": "code",
   "execution_count": 14,
   "metadata": {},
   "outputs": [
    {
     "data": {
      "text/plain": [
       "<tf.Tensor: shape=(2, 2), dtype=int32, numpy=\n",
       "array([[1, 3],\n",
       "       [2, 4]], dtype=int32)>"
      ]
     },
     "execution_count": 14,
     "metadata": {},
     "output_type": "execute_result"
    }
   ],
   "source": [
    "tf.transpose(tf.reshape(tf.constant([1, 2, 3, 4]), (2, 2)))"
   ]
  },
  {
   "cell_type": "markdown",
   "metadata": {},
   "source": [
    "## Code 14.5"
   ]
  },
  {
   "cell_type": "code",
   "execution_count": 15,
   "metadata": {},
   "outputs": [
    {
     "data": {
      "text/plain": [
       "<tf.Tensor: shape=(2, 2), dtype=float32, numpy=\n",
       "array([[ 1.  , -0.35],\n",
       "       [-0.35,  0.25]], dtype=float32)>"
      ]
     },
     "execution_count": 15,
     "metadata": {},
     "output_type": "execute_result"
    }
   ],
   "source": [
    "sigmas = tf.constant([sigma_a, sigma_b])  # standard deviations\n",
    "Rho = tf.constant([[1, rho], [rho, 1]])  # correlation matrix\n",
    "\n",
    "# now matrix multiply to get covariance matrix\n",
    "Sigma = tf.linalg.tensor_diag(sigmas) @ Rho @ tf.linalg.tensor_diag(sigmas)\n",
    "\n",
    "Sigma"
   ]
  },
  {
   "cell_type": "markdown",
   "metadata": {},
   "source": [
    "## Code 14.6"
   ]
  },
  {
   "cell_type": "code",
   "execution_count": 16,
   "metadata": {},
   "outputs": [],
   "source": [
    "N_cafes = 20"
   ]
  },
  {
   "cell_type": "markdown",
   "metadata": {},
   "source": [
    "## Code 14.7"
   ]
  },
  {
   "cell_type": "code",
   "execution_count": 17,
   "metadata": {},
   "outputs": [
    {
     "name": "stdout",
     "output_type": "stream",
     "text": [
      "WARNING:tensorflow:From /Users/ksachdeva/Desktop/Dev/myoss/rethinking-tensorflow-probability/env/lib/python3.7/site-packages/tensorflow_probability/python/distributions/distribution.py:284: MultivariateNormalFullCovariance.__init__ (from tensorflow_probability.python.distributions.mvn_full_covariance) is deprecated and will be removed after 2019-12-01.\n",
      "Instructions for updating:\n",
      "`MultivariateNormalFullCovariance` is deprecated, use `MultivariateNormalTriL(loc=loc, scale_tril=tf.linalg.cholesky(covariance_matrix))` instead.\n"
     ]
    }
   ],
   "source": [
    "vary_effects = tfd.MultivariateNormalFullCovariance(\n",
    "    loc=Mu,\n",
    "    covariance_matrix=Sigma).sample((N_cafes,), seed=5)"
   ]
  },
  {
   "cell_type": "markdown",
   "metadata": {},
   "source": [
    "## Code 14.8"
   ]
  },
  {
   "cell_type": "code",
   "execution_count": 18,
   "metadata": {},
   "outputs": [],
   "source": [
    "a_cafe = vary_effects[:, 0]\n",
    "b_cafe = vary_effects[:, 1]"
   ]
  },
  {
   "cell_type": "code",
   "execution_count": 19,
   "metadata": {},
   "outputs": [
    {
     "data": {
      "text/plain": [
       "TensorShape([20])"
      ]
     },
     "execution_count": 19,
     "metadata": {},
     "output_type": "execute_result"
    }
   ],
   "source": [
    "b_cafe.shape"
   ]
  },
  {
   "cell_type": "markdown",
   "metadata": {},
   "source": [
    "## Code 14.9"
   ]
  },
  {
   "cell_type": "code",
   "execution_count": 20,
   "metadata": {},
   "outputs": [
    {
     "data": {
      "image/png": "[encoded data removed]",
      "text/plain": [
       "<Figure size 720x480 with 1 Axes>"
      ]
     },
     "metadata": {
      "image/png": {
       "height": 433,
       "width": 672
      }
     },
     "output_type": "display_data"
    }
   ],
   "source": [
    "from matplotlib.patches import Ellipse, transforms\n",
    "\n",
    "plt.plot(a_cafe, b_cafe, \"o\", mfc=\"none\")\n",
    "plt.gca().set(xlabel=\"intercepts (a_cafe)\", ylabel=\"slopes (b_cafe)\")\n",
    "plt.xlim((1.0,5.5))\n",
    "plt.ylim((-1.8,-0.25))\n",
    "\n",
    "# overlay population distribution\n",
    "# Ref: https://matplotlib.org/gallery/statistics/confidence_ellipse.html\n",
    "for l in [0.1, 0.3, 0.5, 0.8, 0.99]:\n",
    "    pearson = Sigma[0, 1] / np.sqrt(Sigma[0, 0] * Sigma[1, 1])\n",
    "    ellipse = Ellipse((0, 0), np.sqrt(1 + pearson), np.sqrt(1 - pearson),\n",
    "                      edgecolor=\"k\", alpha=0.2, facecolor=\"none\")\n",
    "    std_dev = tfd.Normal(loc=0.,scale=1.).quantile((1 + np.sqrt(l)) / 2)\n",
    "    scale_x = 2 * std_dev * np.sqrt(Sigma[0, 0])\n",
    "    scale_y = 2 * std_dev * np.sqrt(Sigma[1, 1])\n",
    "    scale = transforms.Affine2D().rotate_deg(45).scale(scale_x, scale_y)\n",
    "    ellipse.set_transform(scale.translate(Mu[0], Mu[1]) + plt.gca().transData)\n",
    "    plt.gca().add_patch(ellipse)"
   ]
  },
  {
   "cell_type": "markdown",
   "metadata": {},
   "source": [
    "## Code 14.10\n",
    "\n",
    "The data we’re generating describes the waiting times in 20 different cafés. Each café has a different average waiting times in the morning and in the afternoon. The average morning waiting time is the intercept, and the difference between afternoon and morning average waiting times is the slope. "
   ]
  },
  {
   "cell_type": "code",
   "execution_count": 21,
   "metadata": {},
   "outputs": [
    {
     "data": {
      "text/html": [
       "<div>\n",
       "<style scoped>\n",
       "    .dataframe tbody tr th:only-of-type {\n",
       "        vertical-align: middle;\n",
       "    }\n",
       "\n",
       "    .dataframe tbody tr th {\n",
       "        vertical-align: top;\n",
       "    }\n",
       "\n",
       "    .dataframe thead th {\n",
       "        text-align: right;\n",
       "    }\n",
       "</style>\n",
       "<table border=\"1\" class=\"dataframe\">\n",
       "  <thead>\n",
       "    <tr style=\"text-align: right;\">\n",
       "      <th></th>\n",
       "      <th>cafe</th>\n",
       "      <th>afternoon</th>\n",
       "      <th>wait</th>\n",
       "    </tr>\n",
       "  </thead>\n",
       "  <tbody>\n",
       "    <tr>\n",
       "      <th>0</th>\n",
       "      <td>0</td>\n",
       "      <td>0</td>\n",
       "      <td>1.770887</td>\n",
       "    </tr>\n",
       "    <tr>\n",
       "      <th>1</th>\n",
       "      <td>0</td>\n",
       "      <td>1</td>\n",
       "      <td>2.048674</td>\n",
       "    </tr>\n",
       "    <tr>\n",
       "      <th>2</th>\n",
       "      <td>0</td>\n",
       "      <td>0</td>\n",
       "      <td>2.285792</td>\n",
       "    </tr>\n",
       "    <tr>\n",
       "      <th>3</th>\n",
       "      <td>0</td>\n",
       "      <td>1</td>\n",
       "      <td>1.656177</td>\n",
       "    </tr>\n",
       "    <tr>\n",
       "      <th>4</th>\n",
       "      <td>0</td>\n",
       "      <td>0</td>\n",
       "      <td>3.005670</td>\n",
       "    </tr>\n",
       "    <tr>\n",
       "      <th>...</th>\n",
       "      <td>...</td>\n",
       "      <td>...</td>\n",
       "      <td>...</td>\n",
       "    </tr>\n",
       "    <tr>\n",
       "      <th>195</th>\n",
       "      <td>19</td>\n",
       "      <td>1</td>\n",
       "      <td>4.088935</td>\n",
       "    </tr>\n",
       "    <tr>\n",
       "      <th>196</th>\n",
       "      <td>19</td>\n",
       "      <td>0</td>\n",
       "      <td>5.800627</td>\n",
       "    </tr>\n",
       "    <tr>\n",
       "      <th>197</th>\n",
       "      <td>19</td>\n",
       "      <td>1</td>\n",
       "      <td>4.087051</td>\n",
       "    </tr>\n",
       "    <tr>\n",
       "      <th>198</th>\n",
       "      <td>19</td>\n",
       "      <td>0</td>\n",
       "      <td>5.577837</td>\n",
       "    </tr>\n",
       "    <tr>\n",
       "      <th>199</th>\n",
       "      <td>19</td>\n",
       "      <td>1</td>\n",
       "      <td>3.754343</td>\n",
       "    </tr>\n",
       "  </tbody>\n",
       "</table>\n",
       "<p>200 rows × 3 columns</p>\n",
       "</div>"
      ],
      "text/plain": [
       "     cafe  afternoon      wait\n",
       "0       0          0  1.770887\n",
       "1       0          1  2.048674\n",
       "2       0          0  2.285792\n",
       "3       0          1  1.656177\n",
       "4       0          0  3.005670\n",
       "..    ...        ...       ...\n",
       "195    19          1  4.088935\n",
       "196    19          0  5.800627\n",
       "197    19          1  4.087051\n",
       "198    19          0  5.577837\n",
       "199    19          1  3.754343\n",
       "\n",
       "[200 rows x 3 columns]"
      ]
     },
     "execution_count": 21,
     "metadata": {},
     "output_type": "execute_result"
    }
   ],
   "source": [
    "N_visits = 10\n",
    "afternoon = np.tile(np.arange(2), N_visits * N_cafes // 2)\n",
    "cafe_id = np.repeat(np.arange(N_cafes), N_visits)\n",
    "mu = tf.gather(a_cafe, cafe_id) + tf.gather(b_cafe, cafe_id) * afternoon\n",
    "sigma = 0.5  # std dev within cafes\n",
    "wait = tfd.Normal(loc=mu, scale=sigma).sample(seed=22)\n",
    "d = pd.DataFrame(dict(cafe=cafe_id, afternoon=afternoon, wait=wait))\n",
    "\n",
    "d"
   ]
  },
  {
   "cell_type": "markdown",
   "metadata": {},
   "source": [
    "## Code 14.11"
   ]
  },
  {
   "cell_type": "code",
   "execution_count": 22,
   "metadata": {},
   "outputs": [
    {
     "data": {
      "image/png": "[encoded data removed]",
      "text/plain": [
       "<Figure size 720x480 with 1 Axes>"
      ]
     },
     "metadata": {
      "image/png": {
       "height": 406,
       "width": 613
      }
     },
     "output_type": "display_data"
    }
   ],
   "source": [
    "R = tfp.distributions.LKJ(dimension=2, concentration=2).sample((int(1e4),))\n",
    "az.plot_kde(R[:, 0, 1], bw=2, label=\"correlation\");"
   ]
  },
  {
   "cell_type": "code",
   "execution_count": 23,
   "metadata": {},
   "outputs": [
    {
     "data": {
      "text/plain": [
       "TensorShape([10000, 2, 2])"
      ]
     },
     "execution_count": 23,
     "metadata": {},
     "output_type": "execute_result"
    }
   ],
   "source": [
    "R.shape"
   ]
  },
  {
   "cell_type": "markdown",
   "metadata": {},
   "source": [
    "## Code 14.12"
   ]
  },
  {
   "cell_type": "code",
   "execution_count": 24,
   "metadata": {},
   "outputs": [
    {
     "data": {
      "text/plain": [
       "(<tf.Tensor: shape=(1,), dtype=float32, numpy=array([5.4276066], dtype=float32)>,\n",
       " <tf.Tensor: shape=(1,), dtype=float32, numpy=array([-2.126624], dtype=float32)>,\n",
       " <tf.Tensor: shape=(2,), dtype=float32, numpy=array([1.7250053, 1.5252798], dtype=float32)>,\n",
       " <tf.Tensor: shape=(1,), dtype=float32, numpy=array([1.008814], dtype=float32)>,\n",
       " <tf.Tensor: shape=(2, 2), dtype=float32, numpy=\n",
       " array([[1.        , 0.02255547],\n",
       "        [0.02255547, 1.        ]], dtype=float32)>,\n",
       " <tf.Tensor: shape=(20, 2), dtype=float32, numpy=\n",
       " array([[ 6.8354445 , -2.7458382 ],\n",
       "        [ 4.933817  , -3.6447384 ],\n",
       "        [ 4.6182632 , -2.046766  ],\n",
       "        [ 5.7923374 ,  0.5039921 ],\n",
       "        [ 6.713848  , -1.0449814 ],\n",
       "        [ 8.350418  , -1.8908081 ],\n",
       "        [ 3.8624666 , -3.1996503 ],\n",
       "        [ 3.8920205 , -4.13902   ],\n",
       "        [ 3.6104627 ,  0.6997037 ],\n",
       "        [ 2.0272887 , -1.1142223 ],\n",
       "        [ 7.7352715 , -2.1858559 ],\n",
       "        [ 3.140615  , -0.25041926],\n",
       "        [ 6.9728293 , -1.8964273 ],\n",
       "        [ 9.041351  , -2.661049  ],\n",
       "        [ 4.2809954 ,  0.48359895],\n",
       "        [ 4.9461927 ,  1.3103116 ],\n",
       "        [ 4.54916   , -4.162789  ],\n",
       "        [ 4.2829375 , -2.2546391 ],\n",
       "        [ 3.3884792 , -1.9145973 ],\n",
       "        [ 4.627797  , -1.2242601 ]], dtype=float32)>,\n",
       " <tf.Tensor: shape=(200,), dtype=float32, numpy=\n",
       " array([ 6.4480925 ,  4.007986  ,  6.4254994 ,  5.125384  ,  6.4085054 ,\n",
       "         3.1981745 ,  6.9688272 ,  3.3931944 ,  5.9255133 ,  3.0368288 ,\n",
       "         5.0188117 ,  1.8817043 ,  3.8191504 ,  1.3131248 ,  3.3072813 ,\n",
       "        -0.19418478,  3.6443572 ,  2.5946069 ,  4.760129  ,  1.61835   ,\n",
       "         5.918319  ,  2.6129398 ,  3.7253518 ,  3.1892674 ,  4.7233105 ,\n",
       "         2.9100118 ,  5.7748466 ,  3.173849  ,  4.8864646 ,  2.6390355 ,\n",
       "         4.8627453 ,  7.1886306 ,  5.799122  ,  7.549285  ,  4.3391247 ,\n",
       "         6.612132  ,  5.8282437 ,  5.668224  ,  5.23534   ,  5.483306  ,\n",
       "         5.268846  ,  6.785631  ,  8.482445  ,  5.4865766 ,  7.1165514 ,\n",
       "         5.769419  ,  7.3457212 ,  4.8284984 ,  5.5157337 ,  5.9999228 ,\n",
       "        10.381106  ,  5.884294  ,  7.755525  ,  7.3057632 ,  7.34711   ,\n",
       "         8.335533  ,  8.986638  ,  7.6639194 ,  7.2250123 ,  7.2969856 ,\n",
       "         4.7766175 ,  1.6924435 ,  4.219563  ,  1.9978592 ,  2.9586942 ,\n",
       "         1.0843089 ,  3.8717148 ,  0.42841154,  4.151993  , -0.79229224,\n",
       "         4.714235  ,  1.06571   ,  3.3182807 , -1.3485761 ,  2.8292704 ,\n",
       "         0.0570794 ,  4.593344  , -0.55984306,  3.7515874 , -1.1986122 ,\n",
       "         5.991045  ,  4.2106013 ,  4.7638006 ,  4.5137315 ,  6.556775  ,\n",
       "         3.6677938 ,  4.685976  ,  5.472951  ,  2.3663437 ,  2.6761055 ,\n",
       "         0.998018  ,  0.59599197,  2.9626381 ,  2.0623102 ,  3.8777266 ,\n",
       "        -0.11261213,  2.2133927 ,  1.0180664 ,  2.6094947 ,  0.29218686,\n",
       "         6.691997  ,  6.0676126 ,  9.509169  ,  6.6371317 ,  7.427684  ,\n",
       "         5.4794984 ,  8.291221  ,  6.6482115 ,  8.11214   ,  4.048336  ,\n",
       "         1.0690281 ,  0.11473775,  4.507264  ,  4.1069355 ,  4.4903464 ,\n",
       "         1.2559537 ,  2.6669943 ,  2.9891918 ,  2.7077394 ,  2.4433517 ,\n",
       "         6.075195  ,  4.816558  ,  7.904175  ,  6.388709  ,  8.236684  ,\n",
       "         4.7490053 ,  6.515949  ,  5.7377286 ,  7.455924  ,  4.2192574 ,\n",
       "         7.730655  ,  7.5992756 ,  9.749779  ,  6.2225513 ,  7.9893703 ,\n",
       "         7.053269  ,  8.092754  ,  6.930317  ,  8.768225  ,  7.902295  ,\n",
       "         3.8527312 ,  3.3203526 ,  5.7933884 ,  5.120472  ,  4.2389154 ,\n",
       "         4.601674  ,  4.929783  ,  3.7734537 ,  4.685726  ,  5.312684  ,\n",
       "         5.160323  ,  7.0241675 ,  7.138896  ,  7.125621  ,  6.4306927 ,\n",
       "         5.064528  ,  4.3434906 ,  8.330558  ,  6.1536593 ,  6.4361277 ,\n",
       "         5.1156287 ,  0.90820485,  5.143901  ,  0.5543653 ,  6.0554714 ,\n",
       "         0.24788865,  4.6789703 , -0.6630887 ,  5.2853017 ,  0.7217035 ,\n",
       "         4.9863663 ,  4.692601  ,  4.5149937 ,  1.1162584 ,  4.959124  ,\n",
       "         2.1137493 ,  4.652011  ,  1.9451228 ,  2.0508747 ,  2.620845  ,\n",
       "         4.0265026 , -0.12762868,  2.9389017 ,  1.0990885 ,  1.3424058 ,\n",
       "         1.830384  ,  3.6620908 , -0.07966816,  4.3348327 ,  1.6945349 ,\n",
       "         2.765534  ,  3.3591413 ,  2.7461195 ,  4.383251  ,  4.400815  ,\n",
       "         2.86201   ,  4.613669  ,  3.6611445 ,  5.950728  ,  4.8898525 ],\n",
       "       dtype=float32)>)"
      ]
     },
     "execution_count": 24,
     "metadata": {},
     "output_type": "execute_result"
    }
   ],
   "source": [
    "def model_14_1(cafe, afternoon):\n",
    "    def _generator():\n",
    "        alpha = yield Root(tfd.Sample(tfd.Normal(loc=5.,scale=2.), sample_shape=1))\n",
    "        beta  = yield Root(tfd.Sample(tfd.Normal(loc=-1., scale=0.5), sample_shape=1))\n",
    "        sigma_cafe = yield Root(tfd.Sample(tfd.Exponential(rate=1.), sample_shape=2))\n",
    "        sigma = yield Root(tfd.Sample(tfd.Exponential(rate=1.), sample_shape=1))\n",
    "        Rho = yield Root(tfp.distributions.LKJ(dimension=2, concentration=2.))\n",
    "        \n",
    "        Mu = tf.concat([alpha, beta], axis=-1)\n",
    "        \n",
    "        a_cafe_b_cafe = yield tfd.Sample(\n",
    "                tfd.MultivariateNormalTriL(\n",
    "                        loc = Mu,\n",
    "                        scale_tril = tf.linalg.LinearOperatorDiag(sigma_cafe).matmul(Rho)\n",
    "                    ),sample_shape=20)\n",
    "\n",
    "        a_cafe = a_cafe_b_cafe[:,0]\n",
    "        b_cafe = a_cafe_b_cafe[:,1]\n",
    "        \n",
    "        term1 = tf.gather(a_cafe, cafe, axis=-1)\n",
    "        term2 = tf.gather(b_cafe, cafe, axis=-1)\n",
    "    \n",
    "        mu = term1 + term2 * afternoon\n",
    "        \n",
    "        wait = yield tfd.Independent(\n",
    "            tfd.Normal(loc=mu, scale=sigma),\n",
    "            reinterpreted_batch_ndims=1)\n",
    "        \n",
    "        \n",
    "    return tfd.JointDistributionCoroutine(_generator, validate_args=False) \n",
    "        \n",
    "        \n",
    "jdc_14_1 = model_14_1(d.cafe.values, d.afternoon.values)\n",
    "        \n",
    "jdc_14_1.sample()"
   ]
  },
  {
   "cell_type": "code",
   "execution_count": 25,
   "metadata": {},
   "outputs": [
    {
     "data": {
      "text/plain": [
       "<tf.Tensor: shape=(2, 2), dtype=float32, numpy=\n",
       "array([[1.       , 0.3028338],\n",
       "       [0.3028338, 1.       ]], dtype=float32)>"
      ]
     },
     "execution_count": 25,
     "metadata": {},
     "output_type": "execute_result"
    }
   ],
   "source": [
    "alpha_init, beta_init, sigma_cafe_init, sigma_init, Rho_init, a_cafe_b_cafe_init, _ = jdc_14_1.sample()\n",
    "\n",
    "# let's see Rho and make sure that what we have\n",
    "# looks like a correlation matrix as a sanity check\n",
    "#\n",
    "# Now this will a prior sample so most likely\n",
    "# we will get the correct sample however when we will do HMC\n",
    "# we maybe extra care\n",
    "Rho_init"
   ]
  },
  {
   "cell_type": "code",
   "execution_count": 26,
   "metadata": {},
   "outputs": [],
   "source": [
    "init_state = [\n",
    "    alpha_init,\n",
    "    beta_init,\n",
    "    sigma_cafe_init,\n",
    "    sigma_init,\n",
    "    Rho_init,\n",
    "    a_cafe_b_cafe_init\n",
    "]\n",
    "\n",
    "bijectors = [\n",
    "    tfb.Identity(),  # alpha\n",
    "    tfb.Identity(),  # beta\n",
    "    tfb.Exp(),       # sigma_cafe\n",
    "    tfb.Exp(),       # sigma\n",
    "    tfb.CorrelationCholesky(),  # Rho\n",
    "    tfb.Identity(),  # a_cafe_b_cafe\n",
    "]\n",
    "\n",
    "observed_data = (tf.cast(d.wait.values, dtype=tf.float32),)\n",
    "\n",
    "# Not working !\n",
    "# trace_14_1 = sample_from_posterior(\n",
    "#                     jdc_14_1, \n",
    "#                     observed_data=observed_data,\n",
    "#                     params=['alpha', 'beta', 'sigma_cafe', 'sigma', 'Rho', 'a_cafe_b_cafe'],\n",
    "#                     num_samples=1000,\n",
    "#                     burnin=500,\n",
    "#                     init_state=init_state,\n",
    "#                     bijectors=bijectors\n",
    "#                     )"
   ]
  },
  {
   "cell_type": "markdown",
   "metadata": {},
   "source": [
    "## Code 14.13- 14.17  (Not implented as above section is not working !)"
   ]
  },
  {
   "cell_type": "markdown",
   "metadata": {},
   "source": [
    "## Code 14.18"
   ]
  },
  {
   "cell_type": "code",
   "execution_count": 60,
   "metadata": {},
   "outputs": [],
   "source": [
    "d = pd.read_csv(CHIMPANZEE_DATASET_PATH, sep=\";\")\n",
    "d[\"block_id\"] = d.block\n",
    "d[\"treatment\"] = 1 + d.prosoc_left + 2 * d.condition\n",
    "\n",
    "dat = dict(L=d.pulled_left.values, tid=d.treatment.values - 1,\n",
    "           actor=d.actor.values - 1, block_id=d.block_id.values - 1)\n",
    "\n",
    "# actor 0 to 6 => 7\n",
    "# tid 0 to 3 => 4"
   ]
  },
  {
   "cell_type": "code",
   "execution_count": 61,
   "metadata": {},
   "outputs": [
    {
     "name": "stdout",
     "output_type": "stream",
     "text": [
      "(7, 4)\n"
     ]
    },
    {
     "data": {
      "text/plain": [
       "(<tf.Tensor: shape=(4,), dtype=float32, numpy=array([-0.34177905, -0.28596163,  0.00334189, -0.6411293 ], dtype=float32)>,\n",
       " <tf.Tensor: shape=(4,), dtype=float32, numpy=array([0.02672422, 3.3206892 , 0.82678264, 3.1521685 ], dtype=float32)>,\n",
       " <tf.Tensor: shape=(4, 4), dtype=float32, numpy=\n",
       " array([[ 1.        ,  0.08402777, -0.13147444, -0.38071358],\n",
       "        [ 0.08402777,  1.        , -0.20615253,  0.13412783],\n",
       "        [-0.13147444, -0.20615253,  1.        , -0.2349674 ],\n",
       "        [-0.38071358,  0.13412783, -0.2349674 ,  1.        ]],\n",
       "       dtype=float32)>,\n",
       " <tf.Tensor: shape=(4,), dtype=float32, numpy=array([0.16662279, 0.09219509, 1.058483  , 0.4313959 ], dtype=float32)>,\n",
       " <tf.Tensor: shape=(4, 4), dtype=float32, numpy=\n",
       " array([[ 1.        , -0.0059855 ,  0.04524606, -0.16377744],\n",
       "        [-0.0059855 ,  1.        , -0.11170421,  0.30325863],\n",
       "        [ 0.04524606, -0.11170421,  1.        ,  0.03799928],\n",
       "        [-0.16377744,  0.30325863,  0.03799928,  1.        ]],\n",
       "       dtype=float32)>,\n",
       " <tf.Tensor: shape=(7, 4), dtype=float32, numpy=\n",
       " array([[ 0.00843168, -4.5030403 ,  0.50571454, -0.9143384 ],\n",
       "        [ 0.03777219, -1.9486225 ,  0.15663344,  0.5920694 ],\n",
       "        [-0.03767027,  2.242339  ,  0.86832607,  2.8445294 ],\n",
       "        [-0.03429206, -2.473992  ,  0.09394394,  3.0933292 ],\n",
       "        [-0.03285908, -3.1222677 , -0.0108211 ,  5.7346506 ],\n",
       "        [-0.03218605, -3.7112145 ,  1.317804  , -5.0930395 ],\n",
       "        [-0.03190788,  0.80296266, -0.24256474,  4.5145392 ]],\n",
       "       dtype=float32)>,\n",
       " <tf.Tensor: shape=(6, 4), dtype=float32, numpy=\n",
       " array([[ 0.06673361, -0.11363818, -0.39250186, -0.6961378 ],\n",
       "        [-0.2144988 ,  0.03772535,  0.60151356, -0.4546924 ],\n",
       "        [-0.04305179,  0.09803809, -1.0647475 ,  0.01371932],\n",
       "        [-0.06928529, -0.09721629,  0.24858359,  0.04307985],\n",
       "        [ 0.22570542,  0.15133254, -1.0903859 , -0.30084065],\n",
       "        [-0.1200636 , -0.0311542 , -0.31449956, -0.26747993]],\n",
       "       dtype=float32)>,\n",
       " <tf.Tensor: shape=(504,), dtype=float32, numpy=\n",
       " array([0., 0., 0., 1., 0., 0., 0., 0., 0., 0., 0., 0., 0., 0., 0., 0., 0.,\n",
       "        0., 0., 0., 0., 0., 0., 0., 0., 0., 0., 0., 1., 0., 0., 0., 0., 0.,\n",
       "        0., 0., 0., 1., 0., 0., 1., 1., 1., 1., 0., 0., 0., 0., 0., 1., 0.,\n",
       "        1., 1., 1., 1., 1., 1., 0., 1., 0., 1., 1., 1., 1., 0., 1., 0., 0.,\n",
       "        1., 0., 0., 1., 0., 0., 1., 0., 0., 0., 0., 0., 0., 1., 1., 1., 1.,\n",
       "        0., 0., 1., 1., 1., 1., 0., 0., 1., 0., 0., 1., 0., 0., 0., 1., 0.,\n",
       "        0., 0., 0., 0., 0., 0., 0., 1., 0., 1., 0., 1., 1., 1., 0., 1., 1.,\n",
       "        1., 0., 1., 1., 1., 1., 1., 1., 1., 0., 1., 1., 1., 1., 1., 1., 1.,\n",
       "        1., 1., 1., 0., 1., 0., 1., 0., 1., 0., 0., 0., 0., 1., 1., 1., 0.,\n",
       "        1., 0., 0., 1., 0., 0., 0., 1., 1., 1., 1., 0., 1., 1., 0., 1., 0.,\n",
       "        0., 1., 1., 0., 1., 0., 0., 0., 1., 0., 1., 1., 1., 0., 1., 0., 1.,\n",
       "        1., 1., 1., 1., 1., 1., 1., 1., 1., 1., 1., 1., 1., 1., 1., 1., 0.,\n",
       "        1., 1., 0., 1., 1., 1., 1., 1., 1., 0., 1., 1., 0., 0., 0., 1., 0.,\n",
       "        0., 1., 0., 1., 0., 1., 0., 0., 0., 1., 0., 1., 0., 0., 0., 1., 0.,\n",
       "        0., 0., 0., 0., 0., 0., 0., 0., 0., 0., 0., 0., 1., 0., 0., 1., 0.,\n",
       "        0., 0., 1., 1., 1., 1., 1., 1., 1., 0., 1., 1., 0., 1., 1., 0., 0.,\n",
       "        1., 1., 1., 0., 1., 0., 1., 1., 1., 1., 0., 1., 1., 0., 0., 0., 0.,\n",
       "        0., 1., 0., 0., 0., 0., 0., 0., 0., 0., 0., 0., 0., 0., 0., 0., 0.,\n",
       "        0., 1., 0., 0., 0., 1., 0., 0., 0., 0., 0., 1., 0., 0., 1., 0., 0.,\n",
       "        0., 1., 0., 1., 1., 0., 1., 0., 1., 0., 1., 0., 1., 1., 1., 1., 1.,\n",
       "        1., 1., 1., 1., 0., 0., 1., 1., 1., 1., 1., 0., 1., 1., 1., 1., 1.,\n",
       "        0., 1., 0., 0., 1., 1., 0., 0., 0., 0., 0., 0., 1., 0., 1., 1., 1.,\n",
       "        1., 0., 0., 0., 0., 0., 1., 0., 0., 0., 0., 0., 1., 0., 1., 0., 0.,\n",
       "        0., 0., 0., 0., 0., 0., 1., 0., 0., 1., 1., 0., 1., 0., 0., 0., 0.,\n",
       "        0., 0., 1., 0., 1., 1., 1., 1., 0., 0., 1., 1., 0., 1., 1., 1., 1.,\n",
       "        0., 1., 1., 0., 1., 0., 1., 0., 0., 1., 0., 0., 0., 0., 0., 0., 1.,\n",
       "        1., 0., 1., 1., 0., 0., 0., 1., 0., 0., 1., 1., 0., 0., 1., 1., 0.,\n",
       "        0., 1., 0., 0., 1., 0., 1., 0., 0., 1., 1., 1., 0., 1., 1., 1., 0.,\n",
       "        1., 1., 1., 0., 0., 1., 1., 0., 0., 1., 1., 1., 1., 0., 1., 0., 1.,\n",
       "        0., 0., 1., 1., 1., 1., 0., 0., 1., 1., 1.], dtype=float32)>)"
      ]
     },
     "execution_count": 61,
     "metadata": {},
     "output_type": "execute_result"
    }
   ],
   "source": [
    "def model_14_2(tid, actor, block_id, num_chains):\n",
    "    \n",
    "    # we need to create the indexes that make\n",
    "    # gather_nd happy\n",
    "    actor_tid = tf.stack([actor, tid], axis=1)\n",
    "    block_tid = tf.stack([block_id, tid], axis=1)\n",
    "    batch_dims = 0\n",
    "    \n",
    "    if num_chains > 1:\n",
    "        actor_tid_tiled =  tf.tile(actor_tid, (num_chains, 1))\n",
    "        actor_tid_reshaped = tf.reshape(actor_tid_tiled, (num_chains, 504, 2))\n",
    "        \n",
    "        actor_tid = actor_tid_reshaped\n",
    "        \n",
    "        block_tid_tiled =  tf.tile(block_tid, (num_chains, 1))\n",
    "        block_tid_reshaped = tf.reshape(block_tid_tiled, (num_chains, 504, 2))\n",
    "        \n",
    "        block_tid = block_tid_reshaped\n",
    "        \n",
    "        batch_dims = 1\n",
    "        \n",
    "    \n",
    "    def _generator():\n",
    "        # fixed priors\n",
    "        g = yield Root(tfd.Sample(tfd.Normal(loc=0., scale=1.), sample_shape=4))\n",
    "        sigma_actor = yield Root(tfd.Sample(tfd.Exponential(rate=1.), sample_shape=4))\n",
    "        # note - not using Sample as it does not work with it\n",
    "        rho_actor = yield Root(tfp.distributions.LKJ(dimension=4, concentration=4.))\n",
    "        sigma_block = yield Root(tfd.Sample(tfd.Exponential(rate=1.), sample_shape=4))\n",
    "        # note - not using Sample as it does not work with it\n",
    "        rho_block = yield Root(tfp.distributions.LKJ(dimension=4, concentration=4.))\n",
    "        # adaptive priors\n",
    "        \n",
    "        alpha = yield tfd.Sample(\n",
    "                tfd.MultivariateNormalTriL(\n",
    "                        loc = 0.,\n",
    "                        scale_tril = tf.linalg.LinearOperatorDiag(sigma_actor).matmul(rho_actor)\n",
    "                    ),sample_shape=7)\n",
    "        \n",
    "        beta = yield tfd.Sample(\n",
    "                tfd.MultivariateNormalTriL(\n",
    "                        loc = 0.,\n",
    "                        scale_tril = tf.linalg.LinearOperatorDiag(sigma_block).matmul(rho_block)\n",
    "                    ),sample_shape=6)\n",
    "        \n",
    "  \n",
    "        print(alpha.shape)\n",
    "\n",
    "        term1 = tf.gather(g, tid, axis=-1)\n",
    "        term2 = tf.gather_nd(alpha, actor_tid, batch_dims=batch_dims)\n",
    "        term3 = tf.gather_nd(alpha, block_tid, batch_dims=batch_dims)\n",
    "        \n",
    "        logit_p =  term1 + term2 + term3\n",
    "        \n",
    "        L = yield tfd.Independent(tfd.Binomial(total_count=1, logits=logit_p), reinterpreted_batch_ndims=1)\n",
    "        \n",
    "        \n",
    "    return tfd.JointDistributionCoroutine(_generator, validate_args=False) \n",
    "        \n",
    "    \n",
    "jdc_14_2 = model_14_2(dat[\"tid\"], dat[\"actor\"], dat[\"block_id\"], num_chains=1)\n",
    "\n",
    "jdc_14_2.sample()"
   ]
  },
  {
   "cell_type": "code",
   "execution_count": 62,
   "metadata": {},
   "outputs": [
    {
     "name": "stdout",
     "output_type": "stream",
     "text": [
      "(7, 4)\n"
     ]
    }
   ],
   "source": [
    "g_init, sigma_actor_init, rho_actor_init, sigma_block_init, rho_block_init, alpha_init, beta_init, _ = jdc_14_2.sample()"
   ]
  },
  {
   "cell_type": "code",
   "execution_count": 63,
   "metadata": {},
   "outputs": [
    {
     "name": "stdout",
     "output_type": "stream",
     "text": [
      "(7, 4)\n",
      "(7, 4)\n",
      "(7, 4)\n",
      "(7, 4)\n"
     ]
    }
   ],
   "source": [
    "init_state = [\n",
    "    g_init,\n",
    "    sigma_actor_init,\n",
    "    rho_actor_init, \n",
    "    sigma_block_init, \n",
    "    rho_block_init, \n",
    "    alpha_init, \n",
    "    beta_init,\n",
    "]\n",
    "\n",
    "bijectors = [\n",
    "    tfb.Identity(),\n",
    "    tfb.Exp(),\n",
    "    tfb.CorrelationCholesky(),\n",
    "    tfb.Exp(),\n",
    "    tfb.CorrelationCholesky(),\n",
    "    tfb.Identity(),\n",
    "    tfb.Identity()\n",
    "]\n",
    "\n",
    "\n",
    "observed_data = (tf.cast(dat[\"L\"], dtype=tf.float32),)\n",
    "\n",
    "trace_14_2 = sample_from_posterior(\n",
    "                    jdc_14_2, \n",
    "                    observed_data=observed_data,\n",
    "                    params=['g', 'sigma_actor', 'rho_actor', 'sigma_block', 'rho_block', 'alpha', 'beta'],\n",
    "                    num_samples=2000,\n",
    "                    burnin=500,\n",
    "                    init_state=init_state,\n",
    "                    bijectors=bijectors\n",
    "                    )"
   ]
  },
  {
   "cell_type": "markdown",
   "metadata": {},
   "source": [
    "What is happening is that arviz assigns 7 to the chain dimension and this screws up the\n",
    "entire structure in xarray. Really arviz does not work if there is 1 chain. \n",
    "\n",
    "Now I have problem using 2 chains so that is the real problem indeed !"
   ]
  },
  {
   "cell_type": "code",
   "execution_count": 64,
   "metadata": {},
   "outputs": [
    {
     "data": {
      "text/html": [
       "<pre>&lt;xarray.Dataset&gt;\n",
       "Dimensions:          (alpha_dim_0: 4, beta_dim_0: 4, chain: 7, draw: 2000, rho_actor_dim_0: 4, rho_block_dim_0: 4)\n",
       "Coordinates:\n",
       "  * chain            (chain) int64 0 1 2 3 4 5 6\n",
       "  * draw             (draw) int64 0 1 2 3 4 5 ... 1994 1995 1996 1997 1998 1999\n",
       "  * rho_actor_dim_0  (rho_actor_dim_0) int64 0 1 2 3\n",
       "  * rho_block_dim_0  (rho_block_dim_0) int64 0 1 2 3\n",
       "  * alpha_dim_0      (alpha_dim_0) int64 0 1 2 3\n",
       "  * beta_dim_0       (beta_dim_0) int64 0 1 2 3\n",
       "Data variables:\n",
       "    g                (chain, draw) float32 0.3868428 0.3868428 ... nan nan\n",
       "    sigma_actor      (chain, draw) float32 0.81423 0.81423 0.81423 ... nan nan\n",
       "    rho_actor        (chain, draw, rho_actor_dim_0) float32 1.0 0.0 ... nan nan\n",
       "    sigma_block      (chain, draw) float32 1.2745494 1.2745494 ... nan nan\n",
       "    rho_block        (chain, draw, rho_block_dim_0) float32 1.0 0.0 ... nan nan\n",
       "    alpha            (chain, draw, alpha_dim_0) float32 -0.70796466 ... 3.1083994\n",
       "    beta             (chain, draw, beta_dim_0) float32 -1.6643802 ... nan\n",
       "Attributes:\n",
       "    created_at:  2020-02-17T01:10:15.719635</pre>"
      ],
      "text/plain": [
       "<xarray.Dataset>\n",
       "Dimensions:          (alpha_dim_0: 4, beta_dim_0: 4, chain: 7, draw: 2000, rho_actor_dim_0: 4, rho_block_dim_0: 4)\n",
       "Coordinates:\n",
       "  * chain            (chain) int64 0 1 2 3 4 5 6\n",
       "  * draw             (draw) int64 0 1 2 3 4 5 ... 1994 1995 1996 1997 1998 1999\n",
       "  * rho_actor_dim_0  (rho_actor_dim_0) int64 0 1 2 3\n",
       "  * rho_block_dim_0  (rho_block_dim_0) int64 0 1 2 3\n",
       "  * alpha_dim_0      (alpha_dim_0) int64 0 1 2 3\n",
       "  * beta_dim_0       (beta_dim_0) int64 0 1 2 3\n",
       "Data variables:\n",
       "    g                (chain, draw) float32 0.3868428 0.3868428 ... nan nan\n",
       "    sigma_actor      (chain, draw) float32 0.81423 0.81423 0.81423 ... nan nan\n",
       "    rho_actor        (chain, draw, rho_actor_dim_0) float32 1.0 0.0 ... nan nan\n",
       "    sigma_block      (chain, draw) float32 1.2745494 1.2745494 ... nan nan\n",
       "    rho_block        (chain, draw, rho_block_dim_0) float32 1.0 0.0 ... nan nan\n",
       "    alpha            (chain, draw, alpha_dim_0) float32 -0.70796466 ... 3.1083994\n",
       "    beta             (chain, draw, beta_dim_0) float32 -1.6643802 ... nan\n",
       "Attributes:\n",
       "    created_at:  2020-02-17T01:10:15.719635"
      ]
     },
     "execution_count": 64,
     "metadata": {},
     "output_type": "execute_result"
    }
   ],
   "source": [
    "trace_14_2.posterior"
   ]
  },
  {
   "cell_type": "code",
   "execution_count": 65,
   "metadata": {},
   "outputs": [
    {
     "name": "stderr",
     "output_type": "stream",
     "text": [
      "arviz.stats.stats_utils - WARNING - Array contains NaN-value.\n",
      "arviz.stats.stats_utils - WARNING - Array contains NaN-value.\n",
      "arviz.stats.stats_utils - WARNING - Array contains NaN-value.\n",
      "arviz.stats.stats_utils - WARNING - Array contains NaN-value.\n",
      "arviz.stats.stats_utils - WARNING - Array contains NaN-value.\n",
      "arviz.stats.stats_utils - WARNING - Array contains NaN-value.\n",
      "arviz.stats.stats_utils - WARNING - Array contains NaN-value.\n",
      "arviz.stats.stats_utils - WARNING - Array contains NaN-value.\n",
      "arviz.stats.stats_utils - WARNING - Array contains NaN-value.\n",
      "arviz.stats.stats_utils - WARNING - Array contains NaN-value.\n",
      "arviz.stats.stats_utils - WARNING - Array contains NaN-value.\n",
      "arviz.stats.stats_utils - WARNING - Array contains NaN-value.\n",
      "arviz.stats.stats_utils - WARNING - Array contains NaN-value.\n",
      "arviz.stats.stats_utils - WARNING - Array contains NaN-value.\n",
      "arviz.stats.stats_utils - WARNING - Array contains NaN-value.\n"
     ]
    },
    {
     "data": {
      "text/html": [
       "<div>\n",
       "<style scoped>\n",
       "    .dataframe tbody tr th:only-of-type {\n",
       "        vertical-align: middle;\n",
       "    }\n",
       "\n",
       "    .dataframe tbody tr th {\n",
       "        vertical-align: top;\n",
       "    }\n",
       "\n",
       "    .dataframe thead th {\n",
       "        text-align: right;\n",
       "    }\n",
       "</style>\n",
       "<table border=\"1\" class=\"dataframe\">\n",
       "  <thead>\n",
       "    <tr style=\"text-align: right;\">\n",
       "      <th></th>\n",
       "      <th>mean</th>\n",
       "      <th>sd</th>\n",
       "      <th>hpd_3%</th>\n",
       "      <th>hpd_97%</th>\n",
       "      <th>mcse_mean</th>\n",
       "      <th>mcse_sd</th>\n",
       "      <th>ess_mean</th>\n",
       "      <th>ess_sd</th>\n",
       "      <th>ess_bulk</th>\n",
       "      <th>ess_tail</th>\n",
       "      <th>r_hat</th>\n",
       "    </tr>\n",
       "  </thead>\n",
       "  <tbody>\n",
       "    <tr>\n",
       "      <th>g</th>\n",
       "      <td>0.411</td>\n",
       "      <td>0.500</td>\n",
       "      <td>-1.717</td>\n",
       "      <td>NaN</td>\n",
       "      <td>NaN</td>\n",
       "      <td>NaN</td>\n",
       "      <td>NaN</td>\n",
       "      <td>NaN</td>\n",
       "      <td>NaN</td>\n",
       "      <td>NaN</td>\n",
       "      <td>NaN</td>\n",
       "    </tr>\n",
       "    <tr>\n",
       "      <th>sigma_actor</th>\n",
       "      <td>0.771</td>\n",
       "      <td>0.432</td>\n",
       "      <td>0.068</td>\n",
       "      <td>NaN</td>\n",
       "      <td>NaN</td>\n",
       "      <td>NaN</td>\n",
       "      <td>NaN</td>\n",
       "      <td>NaN</td>\n",
       "      <td>NaN</td>\n",
       "      <td>NaN</td>\n",
       "      <td>NaN</td>\n",
       "    </tr>\n",
       "    <tr>\n",
       "      <th>rho_actor[0]</th>\n",
       "      <td>0.572</td>\n",
       "      <td>0.352</td>\n",
       "      <td>-0.703</td>\n",
       "      <td>NaN</td>\n",
       "      <td>NaN</td>\n",
       "      <td>NaN</td>\n",
       "      <td>NaN</td>\n",
       "      <td>NaN</td>\n",
       "      <td>NaN</td>\n",
       "      <td>NaN</td>\n",
       "      <td>NaN</td>\n",
       "    </tr>\n",
       "    <tr>\n",
       "      <th>rho_actor[1]</th>\n",
       "      <td>0.344</td>\n",
       "      <td>0.397</td>\n",
       "      <td>-0.734</td>\n",
       "      <td>NaN</td>\n",
       "      <td>NaN</td>\n",
       "      <td>NaN</td>\n",
       "      <td>NaN</td>\n",
       "      <td>NaN</td>\n",
       "      <td>NaN</td>\n",
       "      <td>NaN</td>\n",
       "      <td>NaN</td>\n",
       "    </tr>\n",
       "    <tr>\n",
       "      <th>rho_actor[2]</th>\n",
       "      <td>0.248</td>\n",
       "      <td>0.336</td>\n",
       "      <td>-0.704</td>\n",
       "      <td>NaN</td>\n",
       "      <td>NaN</td>\n",
       "      <td>NaN</td>\n",
       "      <td>NaN</td>\n",
       "      <td>NaN</td>\n",
       "      <td>NaN</td>\n",
       "      <td>NaN</td>\n",
       "      <td>NaN</td>\n",
       "    </tr>\n",
       "    <tr>\n",
       "      <th>rho_actor[3]</th>\n",
       "      <td>0.151</td>\n",
       "      <td>0.276</td>\n",
       "      <td>0.000</td>\n",
       "      <td>NaN</td>\n",
       "      <td>NaN</td>\n",
       "      <td>NaN</td>\n",
       "      <td>NaN</td>\n",
       "      <td>NaN</td>\n",
       "      <td>NaN</td>\n",
       "      <td>NaN</td>\n",
       "      <td>NaN</td>\n",
       "    </tr>\n",
       "    <tr>\n",
       "      <th>sigma_block</th>\n",
       "      <td>0.928</td>\n",
       "      <td>0.807</td>\n",
       "      <td>0.054</td>\n",
       "      <td>NaN</td>\n",
       "      <td>NaN</td>\n",
       "      <td>NaN</td>\n",
       "      <td>NaN</td>\n",
       "      <td>NaN</td>\n",
       "      <td>NaN</td>\n",
       "      <td>NaN</td>\n",
       "      <td>NaN</td>\n",
       "    </tr>\n",
       "    <tr>\n",
       "      <th>rho_block[0]</th>\n",
       "      <td>0.226</td>\n",
       "      <td>0.563</td>\n",
       "      <td>-0.919</td>\n",
       "      <td>NaN</td>\n",
       "      <td>NaN</td>\n",
       "      <td>NaN</td>\n",
       "      <td>NaN</td>\n",
       "      <td>NaN</td>\n",
       "      <td>NaN</td>\n",
       "      <td>NaN</td>\n",
       "      <td>NaN</td>\n",
       "    </tr>\n",
       "    <tr>\n",
       "      <th>rho_block[1]</th>\n",
       "      <td>0.225</td>\n",
       "      <td>0.467</td>\n",
       "      <td>-0.910</td>\n",
       "      <td>NaN</td>\n",
       "      <td>NaN</td>\n",
       "      <td>NaN</td>\n",
       "      <td>NaN</td>\n",
       "      <td>NaN</td>\n",
       "      <td>NaN</td>\n",
       "      <td>NaN</td>\n",
       "      <td>NaN</td>\n",
       "    </tr>\n",
       "    <tr>\n",
       "      <th>rho_block[2]</th>\n",
       "      <td>0.212</td>\n",
       "      <td>0.404</td>\n",
       "      <td>-0.851</td>\n",
       "      <td>NaN</td>\n",
       "      <td>NaN</td>\n",
       "      <td>NaN</td>\n",
       "      <td>NaN</td>\n",
       "      <td>NaN</td>\n",
       "      <td>NaN</td>\n",
       "      <td>NaN</td>\n",
       "      <td>NaN</td>\n",
       "    </tr>\n",
       "    <tr>\n",
       "      <th>rho_block[3]</th>\n",
       "      <td>0.193</td>\n",
       "      <td>0.343</td>\n",
       "      <td>0.000</td>\n",
       "      <td>NaN</td>\n",
       "      <td>NaN</td>\n",
       "      <td>NaN</td>\n",
       "      <td>NaN</td>\n",
       "      <td>NaN</td>\n",
       "      <td>NaN</td>\n",
       "      <td>NaN</td>\n",
       "      <td>NaN</td>\n",
       "    </tr>\n",
       "    <tr>\n",
       "      <th>alpha[0]</th>\n",
       "      <td>0.063</td>\n",
       "      <td>0.626</td>\n",
       "      <td>-0.878</td>\n",
       "      <td>1.256</td>\n",
       "      <td>0.201</td>\n",
       "      <td>0.147</td>\n",
       "      <td>10.0</td>\n",
       "      <td>10.0</td>\n",
       "      <td>11.0</td>\n",
       "      <td>70.0</td>\n",
       "      <td>1.78</td>\n",
       "    </tr>\n",
       "    <tr>\n",
       "      <th>alpha[1]</th>\n",
       "      <td>0.052</td>\n",
       "      <td>0.445</td>\n",
       "      <td>-0.716</td>\n",
       "      <td>0.935</td>\n",
       "      <td>0.128</td>\n",
       "      <td>0.093</td>\n",
       "      <td>12.0</td>\n",
       "      <td>12.0</td>\n",
       "      <td>12.0</td>\n",
       "      <td>42.0</td>\n",
       "      <td>1.56</td>\n",
       "    </tr>\n",
       "    <tr>\n",
       "      <th>alpha[2]</th>\n",
       "      <td>0.158</td>\n",
       "      <td>1.329</td>\n",
       "      <td>-1.594</td>\n",
       "      <td>2.980</td>\n",
       "      <td>0.464</td>\n",
       "      <td>0.340</td>\n",
       "      <td>8.0</td>\n",
       "      <td>8.0</td>\n",
       "      <td>10.0</td>\n",
       "      <td>31.0</td>\n",
       "      <td>1.92</td>\n",
       "    </tr>\n",
       "    <tr>\n",
       "      <th>alpha[3]</th>\n",
       "      <td>0.203</td>\n",
       "      <td>1.046</td>\n",
       "      <td>-1.315</td>\n",
       "      <td>2.390</td>\n",
       "      <td>0.352</td>\n",
       "      <td>0.257</td>\n",
       "      <td>9.0</td>\n",
       "      <td>9.0</td>\n",
       "      <td>10.0</td>\n",
       "      <td>22.0</td>\n",
       "      <td>1.89</td>\n",
       "    </tr>\n",
       "    <tr>\n",
       "      <th>beta[0]</th>\n",
       "      <td>0.174</td>\n",
       "      <td>1.418</td>\n",
       "      <td>-5.561</td>\n",
       "      <td>NaN</td>\n",
       "      <td>NaN</td>\n",
       "      <td>NaN</td>\n",
       "      <td>NaN</td>\n",
       "      <td>NaN</td>\n",
       "      <td>NaN</td>\n",
       "      <td>NaN</td>\n",
       "      <td>NaN</td>\n",
       "    </tr>\n",
       "    <tr>\n",
       "      <th>beta[1]</th>\n",
       "      <td>-0.101</td>\n",
       "      <td>1.395</td>\n",
       "      <td>-7.223</td>\n",
       "      <td>NaN</td>\n",
       "      <td>NaN</td>\n",
       "      <td>NaN</td>\n",
       "      <td>NaN</td>\n",
       "      <td>NaN</td>\n",
       "      <td>NaN</td>\n",
       "      <td>NaN</td>\n",
       "      <td>NaN</td>\n",
       "    </tr>\n",
       "    <tr>\n",
       "      <th>beta[2]</th>\n",
       "      <td>-0.058</td>\n",
       "      <td>0.691</td>\n",
       "      <td>-4.056</td>\n",
       "      <td>NaN</td>\n",
       "      <td>NaN</td>\n",
       "      <td>NaN</td>\n",
       "      <td>NaN</td>\n",
       "      <td>NaN</td>\n",
       "      <td>NaN</td>\n",
       "      <td>NaN</td>\n",
       "      <td>NaN</td>\n",
       "    </tr>\n",
       "    <tr>\n",
       "      <th>beta[3]</th>\n",
       "      <td>0.188</td>\n",
       "      <td>0.914</td>\n",
       "      <td>-3.417</td>\n",
       "      <td>NaN</td>\n",
       "      <td>NaN</td>\n",
       "      <td>NaN</td>\n",
       "      <td>NaN</td>\n",
       "      <td>NaN</td>\n",
       "      <td>NaN</td>\n",
       "      <td>NaN</td>\n",
       "      <td>NaN</td>\n",
       "    </tr>\n",
       "  </tbody>\n",
       "</table>\n",
       "</div>"
      ],
      "text/plain": [
       "               mean     sd  hpd_3%  hpd_97%  mcse_mean  mcse_sd  ess_mean  \\\n",
       "g             0.411  0.500  -1.717      NaN        NaN      NaN       NaN   \n",
       "sigma_actor   0.771  0.432   0.068      NaN        NaN      NaN       NaN   \n",
       "rho_actor[0]  0.572  0.352  -0.703      NaN        NaN      NaN       NaN   \n",
       "rho_actor[1]  0.344  0.397  -0.734      NaN        NaN      NaN       NaN   \n",
       "rho_actor[2]  0.248  0.336  -0.704      NaN        NaN      NaN       NaN   \n",
       "rho_actor[3]  0.151  0.276   0.000      NaN        NaN      NaN       NaN   \n",
       "sigma_block   0.928  0.807   0.054      NaN        NaN      NaN       NaN   \n",
       "rho_block[0]  0.226  0.563  -0.919      NaN        NaN      NaN       NaN   \n",
       "rho_block[1]  0.225  0.467  -0.910      NaN        NaN      NaN       NaN   \n",
       "rho_block[2]  0.212  0.404  -0.851      NaN        NaN      NaN       NaN   \n",
       "rho_block[3]  0.193  0.343   0.000      NaN        NaN      NaN       NaN   \n",
       "alpha[0]      0.063  0.626  -0.878    1.256      0.201    0.147      10.0   \n",
       "alpha[1]      0.052  0.445  -0.716    0.935      0.128    0.093      12.0   \n",
       "alpha[2]      0.158  1.329  -1.594    2.980      0.464    0.340       8.0   \n",
       "alpha[3]      0.203  1.046  -1.315    2.390      0.352    0.257       9.0   \n",
       "beta[0]       0.174  1.418  -5.561      NaN        NaN      NaN       NaN   \n",
       "beta[1]      -0.101  1.395  -7.223      NaN        NaN      NaN       NaN   \n",
       "beta[2]      -0.058  0.691  -4.056      NaN        NaN      NaN       NaN   \n",
       "beta[3]       0.188  0.914  -3.417      NaN        NaN      NaN       NaN   \n",
       "\n",
       "              ess_sd  ess_bulk  ess_tail  r_hat  \n",
       "g                NaN       NaN       NaN    NaN  \n",
       "sigma_actor      NaN       NaN       NaN    NaN  \n",
       "rho_actor[0]     NaN       NaN       NaN    NaN  \n",
       "rho_actor[1]     NaN       NaN       NaN    NaN  \n",
       "rho_actor[2]     NaN       NaN       NaN    NaN  \n",
       "rho_actor[3]     NaN       NaN       NaN    NaN  \n",
       "sigma_block      NaN       NaN       NaN    NaN  \n",
       "rho_block[0]     NaN       NaN       NaN    NaN  \n",
       "rho_block[1]     NaN       NaN       NaN    NaN  \n",
       "rho_block[2]     NaN       NaN       NaN    NaN  \n",
       "rho_block[3]     NaN       NaN       NaN    NaN  \n",
       "alpha[0]        10.0      11.0      70.0   1.78  \n",
       "alpha[1]        12.0      12.0      42.0   1.56  \n",
       "alpha[2]         8.0      10.0      31.0   1.92  \n",
       "alpha[3]         9.0      10.0      22.0   1.89  \n",
       "beta[0]          NaN       NaN       NaN    NaN  \n",
       "beta[1]          NaN       NaN       NaN    NaN  \n",
       "beta[2]          NaN       NaN       NaN    NaN  \n",
       "beta[3]          NaN       NaN       NaN    NaN  "
      ]
     },
     "execution_count": 65,
     "metadata": {},
     "output_type": "execute_result"
    }
   ],
   "source": [
    "az.summary(trace_14_2)"
   ]
  },
  {
   "cell_type": "code",
   "execution_count": null,
   "metadata": {},
   "outputs": [],
   "source": []
  }
 ],
 "metadata": {
  "kernelspec": {
   "display_name": "Python 3",
   "language": "python",
   "name": "python3"
  },
  "language_info": {
   "codemirror_mode": {
    "name": "ipython",
    "version": 3
   },
   "file_extension": ".py",
   "mimetype": "text/x-python",
   "name": "python",
   "nbconvert_exporter": "python",
   "pygments_lexer": "ipython3",
   "version": "3.7.4"
  },
  "toc": {
   "base_numbering": 1,
   "nav_menu": {},
   "number_sections": true,
   "sideBar": true,
   "skip_h1_title": false,
   "title_cell": "Table of Contents",
   "title_sidebar": "Contents",
   "toc_cell": false,
   "toc_position": {},
   "toc_section_display": true,
   "toc_window_display": false
  }
 },
 "nbformat": 4,
 "nbformat_minor": 4
}
