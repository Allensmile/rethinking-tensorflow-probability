{
 "cells": [
  {
   "cell_type": "markdown",
   "metadata": {},
   "source": [
    "[![Open In Colab](https://colab.research.google.com/assets/colab-badge.svg)](https://colab.research.google.com/github/ksachdeva/rethinking-tensorflow-probability/blob/master/notebooks/14_adventures_in_covariance.ipynb)"
   ]
  },
  {
   "cell_type": "markdown",
   "metadata": {},
   "source": [
    "# Chapter 14 - Adventures in Covariance\n"
   ]
  },
  {
   "cell_type": "markdown",
   "metadata": {},
   "source": [
    "## Imports and utility functions\n"
   ]
  },
  {
   "cell_type": "code",
   "execution_count": 1,
   "metadata": {},
   "outputs": [],
   "source": [
    "# Install packages that are not installed in colab\n",
    "try:\n",
    "  import google.colab\n",
    "  IN_COLAB = True\n",
    "except:\n",
    "  IN_COLAB = False\n",
    "\n",
    "if IN_COLAB:\n",
    "    %tensorflow_version 2.X\n",
    "    \n",
    "    !pip install watermark\n",
    "    !pip install arviz"
   ]
  },
  {
   "cell_type": "code",
   "execution_count": 2,
   "metadata": {},
   "outputs": [],
   "source": [
    "%load_ext watermark"
   ]
  },
  {
   "cell_type": "code",
   "execution_count": 3,
   "metadata": {},
   "outputs": [],
   "source": [
    "# Core\n",
    "import numpy as np\n",
    "import arviz as az\n",
    "import pandas as pd\n",
    "import xarray as xr\n",
    "import tensorflow as tf\n",
    "import tensorflow_probability as tfp\n",
    "\n",
    "# visualization \n",
    "import matplotlib.pyplot as plt\n",
    "\n",
    "# aliases\n",
    "tfd = tfp.distributions\n",
    "tfb = tfp.bijectors\n",
    "Root = tfd.JointDistributionCoroutine.Root"
   ]
  },
  {
   "cell_type": "code",
   "execution_count": 4,
   "metadata": {},
   "outputs": [
    {
     "name": "stdout",
     "output_type": "stream",
     "text": [
      "numpy 1.18.1\n",
      "tensorflow 2.1.0\n",
      "tensorflow_probability 0.9.0\n",
      "arviz 0.6.1\n",
      "scipy 1.4.1\n",
      "pandas 1.0.1\n"
     ]
    }
   ],
   "source": [
    "%watermark -p numpy,tensorflow,tensorflow_probability,arviz,scipy,pandas"
   ]
  },
  {
   "cell_type": "code",
   "execution_count": 5,
   "metadata": {},
   "outputs": [],
   "source": [
    "# config of various plotting libraries\n",
    "%config InlineBackend.figure_format = 'retina'\n",
    "az.style.use('arviz-darkgrid')"
   ]
  },
  {
   "cell_type": "code",
   "execution_count": 6,
   "metadata": {},
   "outputs": [],
   "source": [
    "assert tf.__version__ >= '2.1.0', \"Tensorflow version should be at minimum 2.1.0\"\n",
    "assert tfp.__version__ >= '0.9.0', \"TFP version should be at minimum 0.9.0\""
   ]
  },
  {
   "cell_type": "markdown",
   "metadata": {},
   "source": [
    "## Tensorflow MCMC Sampling helpers\n"
   ]
  },
  {
   "cell_type": "code",
   "execution_count": 7,
   "metadata": {},
   "outputs": [],
   "source": [
    "USE_XLA = False"
   ]
  },
  {
   "cell_type": "code",
   "execution_count": 8,
   "metadata": {},
   "outputs": [],
   "source": [
    "NUMBER_OF_CHAINS  = 2\n",
    "NUMBER_OF_BURNIN  = 500\n",
    "NUMBER_OF_SAMPLES = 500\n",
    "NUMBER_OF_LEAPFROG_STEPS = 4\n",
    "\n",
    "def _trace_to_arviz(trace=None,\n",
    "                   sample_stats=None,\n",
    "                   observed_data=None,\n",
    "                   prior_predictive=None,\n",
    "                   posterior_predictive=None,\n",
    "                   inplace=True):\n",
    "\n",
    "    if trace is not None and isinstance(trace, dict):\n",
    "        trace = {k: np.swapaxes(v.numpy(), 1, 0)\n",
    "                 for k, v in trace.items()}\n",
    "    if sample_stats is not None and isinstance(sample_stats, dict):\n",
    "        sample_stats = {k: v.numpy().T for k, v in sample_stats.items()}\n",
    "    if prior_predictive is not None and isinstance(prior_predictive, dict):\n",
    "        prior_predictive = {k: v[np.newaxis]\n",
    "                            for k, v in prior_predictive.items()}\n",
    "    if posterior_predictive is not None and isinstance(posterior_predictive, dict):\n",
    "        if isinstance(trace, az.InferenceData) and inplace == True:\n",
    "            return trace + az.from_dict(posterior_predictive=posterior_predictive)\n",
    "        else:\n",
    "            trace = None\n",
    "\n",
    "    return az.from_dict(\n",
    "        posterior=trace,\n",
    "        sample_stats=sample_stats,\n",
    "        prior_predictive=prior_predictive,\n",
    "        posterior_predictive=posterior_predictive,\n",
    "        observed_data=observed_data,\n",
    "    )\n",
    "\n",
    "@tf.function(autograph=False, experimental_compile=USE_XLA)\n",
    "def run_chain(init_state,\n",
    "              bijectors, \n",
    "              step_size, \n",
    "              target_log_prob_fn, \n",
    "              num_leapfrog_steps=NUMBER_OF_LEAPFROG_STEPS,\n",
    "              num_samples=NUMBER_OF_SAMPLES,\n",
    "              burnin=NUMBER_OF_BURNIN,\n",
    "              ):    \n",
    "\n",
    "    def _trace_fn_transitioned(_, pkr):\n",
    "        return (\n",
    "            pkr.inner_results.inner_results.log_accept_ratio\n",
    "        )\n",
    "\n",
    "    hmc_kernel = tfp.mcmc.HamiltonianMonteCarlo(\n",
    "                    target_log_prob_fn,\n",
    "                    num_leapfrog_steps=num_leapfrog_steps,\n",
    "                    step_size=step_size)         \n",
    "\n",
    "    inner_kernel = tfp.mcmc.TransformedTransitionKernel(\n",
    "        inner_kernel=hmc_kernel,\n",
    "        bijector=bijectors)       \n",
    "\n",
    "    kernel = tfp.mcmc.SimpleStepSizeAdaptation(\n",
    "        inner_kernel=inner_kernel,\n",
    "        target_accept_prob=.8,\n",
    "        num_adaptation_steps=int(0.8*burnin),\n",
    "        log_accept_prob_getter_fn=lambda pkr: pkr.inner_results.log_accept_ratio\n",
    "    )    \n",
    "\n",
    "    results, sampler_stat = tfp.mcmc.sample_chain(\n",
    "        num_results=num_samples,\n",
    "        num_burnin_steps=burnin,\n",
    "        current_state=init_state,\n",
    "        kernel=kernel,\n",
    "        trace_fn=_trace_fn_transitioned)\n",
    "\n",
    "    return results, sampler_stat\n",
    "\n",
    "def sample_posterior(jdc, \n",
    "                      observed_data, \n",
    "                      params, \n",
    "                      num_chains=NUMBER_OF_CHAINS,\n",
    "                      init_state=None, \n",
    "                      bijectors=None,                              \n",
    "                      num_samples=NUMBER_OF_SAMPLES, \n",
    "                      burnin=NUMBER_OF_BURNIN):       \n",
    "    \n",
    "    if init_state is None:\n",
    "        init_state = list(jdc.sample(NUMBER_OF_CHAINS)[:-1])\n",
    "        \n",
    "    if bijectors is None:\n",
    "        bijectors = [tfb.Identity() for i in init_state]\n",
    "\n",
    "\n",
    "    target_log_prob_fn = lambda *x: jdc.log_prob(x + observed_data)    \n",
    "    step_size = 0.1\n",
    "    results, sample_stats = run_chain(init_state,\n",
    "                                  bijectors,\n",
    "                                  step_size=step_size,\n",
    "                                  target_log_prob_fn=target_log_prob_fn,                                      \n",
    "                                  num_samples=num_samples, \n",
    "                                  burnin=burnin)\n",
    "\n",
    "    stat_names = ['mean_tree_accept']\n",
    "    sampler_stats = dict(zip(stat_names, [sample_stats]))    \n",
    "    posterior = dict(zip(params, results))\n",
    "    return _trace_to_arviz(trace=posterior, sample_stats=sampler_stats)"
   ]
  },
  {
   "cell_type": "markdown",
   "metadata": {},
   "source": [
    "## Dataset URLs\n"
   ]
  },
  {
   "cell_type": "code",
   "execution_count": 9,
   "metadata": {},
   "outputs": [],
   "source": [
    "# You could change base url to local dir or a remoate raw github content\n",
    "_BASE_URL = \"https://raw.githubusercontent.com/ksachdeva/rethinking-tensorflow-probability/master/data\"\n",
    "\n",
    "CHIMPANZEE_DATASET_PATH = f\"{_BASE_URL}/chimpanzees.csv\"\n",
    "KOSTER_LECKIE_DATASET_PATH = f\"{_BASE_URL}/KosterLeckie.csv\"\n",
    "ISLANDS_DISTMATRIX_DATASET_PATH = f\"{_BASE_URL}/islandsDistMatrix.csv\"\n",
    "KLINE_DATASET_PATH = f\"{_BASE_URL}/Kline2.csv\"\n",
    "PRIMATES301_DATASET_PATH = f\"{_BASE_URL}/Primates301.csv\"\n",
    "PRIMATES301_VCOV_DATASET_PATH = f\"{_BASE_URL}/Primates301_vcov_matrix.csv\"\n",
    "PRIMATES301_DISTANCE_DATASET_PATH = f\"{_BASE_URL}/Primates301_distance_matrix.csv\""
   ]
  },
  {
   "cell_type": "markdown",
   "metadata": {},
   "source": [
    "## Code 14.1\n",
    "\n",
    "Simulate the population"
   ]
  },
  {
   "cell_type": "code",
   "execution_count": 10,
   "metadata": {},
   "outputs": [],
   "source": [
    "a = 3.5  # average morning wait time\n",
    "b = -1  # average difference afternoon wait time\n",
    "sigma_a = 1  # std dev in intercepts\n",
    "sigma_b = 0.5  # std dev in slopes\n",
    "rho = -0.7  # correlation between intercepts and slopes"
   ]
  },
  {
   "cell_type": "markdown",
   "metadata": {},
   "source": [
    "## Code 14.2"
   ]
  },
  {
   "cell_type": "code",
   "execution_count": 11,
   "metadata": {},
   "outputs": [],
   "source": [
    "Mu = tf.constant([a, b])"
   ]
  },
  {
   "cell_type": "markdown",
   "metadata": {},
   "source": [
    "The value in a is the mean intercept, the wait in the morning. And the value in b is the mean slope, the difference in wait between afternoon and morning"
   ]
  },
  {
   "cell_type": "markdown",
   "metadata": {},
   "source": [
    "## Code 14.3"
   ]
  },
  {
   "cell_type": "code",
   "execution_count": 12,
   "metadata": {},
   "outputs": [],
   "source": [
    "cov_ab = sigma_a * sigma_b * rho\n",
    "Sigma = tf.constant([[sigma_a ** 2, cov_ab], [cov_ab, sigma_b ** 2]])"
   ]
  },
  {
   "cell_type": "markdown",
   "metadata": {},
   "source": [
    "## Code 14.4"
   ]
  },
  {
   "cell_type": "code",
   "execution_count": 13,
   "metadata": {},
   "outputs": [
    {
     "data": {
      "text/plain": [
       "<tf.Tensor: shape=(2, 2), dtype=int32, numpy=\n",
       "array([[1, 3],\n",
       "       [2, 4]], dtype=int32)>"
      ]
     },
     "execution_count": 13,
     "metadata": {},
     "output_type": "execute_result"
    }
   ],
   "source": [
    "tf.transpose(tf.reshape(tf.constant([1, 2, 3, 4]), (2, 2)))"
   ]
  },
  {
   "cell_type": "markdown",
   "metadata": {},
   "source": [
    "## Code 14.5"
   ]
  },
  {
   "cell_type": "code",
   "execution_count": 14,
   "metadata": {},
   "outputs": [
    {
     "data": {
      "text/plain": [
       "<tf.Tensor: shape=(2, 2), dtype=float32, numpy=\n",
       "array([[ 1.  , -0.35],\n",
       "       [-0.35,  0.25]], dtype=float32)>"
      ]
     },
     "execution_count": 14,
     "metadata": {},
     "output_type": "execute_result"
    }
   ],
   "source": [
    "sigmas = tf.constant([sigma_a, sigma_b])  # standard deviations\n",
    "Rho = tf.constant([[1, rho], [rho, 1]])  # correlation matrix\n",
    "\n",
    "# now matrix multiply to get covariance matrix\n",
    "Sigma = tf.linalg.tensor_diag(sigmas) @ Rho @ tf.linalg.tensor_diag(sigmas)\n",
    "\n",
    "Sigma"
   ]
  },
  {
   "cell_type": "markdown",
   "metadata": {},
   "source": [
    "## Code 14.6"
   ]
  },
  {
   "cell_type": "code",
   "execution_count": 15,
   "metadata": {},
   "outputs": [],
   "source": [
    "N_cafes = 20"
   ]
  },
  {
   "cell_type": "markdown",
   "metadata": {},
   "source": [
    "## Code 14.7"
   ]
  },
  {
   "cell_type": "code",
   "execution_count": 16,
   "metadata": {},
   "outputs": [
    {
     "name": "stdout",
     "output_type": "stream",
     "text": [
      "WARNING:tensorflow:From /Users/ksachdeva/Desktop/Dev/myoss/rethinking-tensorflow-probability/env/lib/python3.7/site-packages/tensorflow_probability/python/distributions/distribution.py:284: MultivariateNormalFullCovariance.__init__ (from tensorflow_probability.python.distributions.mvn_full_covariance) is deprecated and will be removed after 2019-12-01.\n",
      "Instructions for updating:\n",
      "`MultivariateNormalFullCovariance` is deprecated, use `MultivariateNormalTriL(loc=loc, scale_tril=tf.linalg.cholesky(covariance_matrix))` instead.\n"
     ]
    }
   ],
   "source": [
    "vary_effects = tfd.MultivariateNormalFullCovariance(\n",
    "    loc=Mu,\n",
    "    covariance_matrix=Sigma).sample((N_cafes,), seed=5)"
   ]
  },
  {
   "cell_type": "markdown",
   "metadata": {},
   "source": [
    "## Code 14.8"
   ]
  },
  {
   "cell_type": "code",
   "execution_count": 17,
   "metadata": {},
   "outputs": [],
   "source": [
    "a_cafe = vary_effects[:, 0]\n",
    "b_cafe = vary_effects[:, 1]"
   ]
  },
  {
   "cell_type": "code",
   "execution_count": 18,
   "metadata": {},
   "outputs": [
    {
     "data": {
      "text/plain": [
       "TensorShape([20])"
      ]
     },
     "execution_count": 18,
     "metadata": {},
     "output_type": "execute_result"
    }
   ],
   "source": [
    "b_cafe.shape"
   ]
  },
  {
   "cell_type": "markdown",
   "metadata": {},
   "source": [
    "## Code 14.9"
   ]
  },
  {
   "cell_type": "code",
   "execution_count": 19,
   "metadata": {},
   "outputs": [
    {
     "data": {
      "image/png": "[encoded data removed]",
      "text/plain": [
       "<Figure size 720x480 with 1 Axes>"
      ]
     },
     "metadata": {
      "image/png": {
       "height": 433,
       "width": 672
      }
     },
     "output_type": "display_data"
    }
   ],
   "source": [
    "from matplotlib.patches import Ellipse, transforms\n",
    "\n",
    "plt.plot(a_cafe, b_cafe, \"o\", mfc=\"none\")\n",
    "plt.gca().set(xlabel=\"intercepts (a_cafe)\", ylabel=\"slopes (b_cafe)\")\n",
    "plt.xlim((1.0,5.5))\n",
    "plt.ylim((-1.8,-0.25))\n",
    "\n",
    "# overlay population distribution\n",
    "# Ref: https://matplotlib.org/gallery/statistics/confidence_ellipse.html\n",
    "for l in [0.1, 0.3, 0.5, 0.8, 0.99]:\n",
    "    pearson = Sigma[0, 1] / np.sqrt(Sigma[0, 0] * Sigma[1, 1])\n",
    "    ellipse = Ellipse((0, 0), np.sqrt(1 + pearson), np.sqrt(1 - pearson),\n",
    "                      edgecolor=\"k\", alpha=0.2, facecolor=\"none\")\n",
    "    std_dev = tfd.Normal(loc=0.,scale=1.).quantile((1 + np.sqrt(l)) / 2)\n",
    "    scale_x = 2 * std_dev * np.sqrt(Sigma[0, 0])\n",
    "    scale_y = 2 * std_dev * np.sqrt(Sigma[1, 1])\n",
    "    scale = transforms.Affine2D().rotate_deg(45).scale(scale_x, scale_y)\n",
    "    ellipse.set_transform(scale.translate(Mu[0], Mu[1]) + plt.gca().transData)\n",
    "    plt.gca().add_patch(ellipse)"
   ]
  },
  {
   "cell_type": "markdown",
   "metadata": {},
   "source": [
    "## Code 14.10\n",
    "\n",
    "The data we’re generating describes the waiting times in 20 different cafés. Each café has a different average waiting times in the morning and in the afternoon. The average morning waiting time is the intercept, and the difference between afternoon and morning average waiting times is the slope. "
   ]
  },
  {
   "cell_type": "code",
   "execution_count": 20,
   "metadata": {},
   "outputs": [
    {
     "data": {
      "text/html": [
       "<div>\n",
       "<style scoped>\n",
       "    .dataframe tbody tr th:only-of-type {\n",
       "        vertical-align: middle;\n",
       "    }\n",
       "\n",
       "    .dataframe tbody tr th {\n",
       "        vertical-align: top;\n",
       "    }\n",
       "\n",
       "    .dataframe thead th {\n",
       "        text-align: right;\n",
       "    }\n",
       "</style>\n",
       "<table border=\"1\" class=\"dataframe\">\n",
       "  <thead>\n",
       "    <tr style=\"text-align: right;\">\n",
       "      <th></th>\n",
       "      <th>cafe</th>\n",
       "      <th>afternoon</th>\n",
       "      <th>wait</th>\n",
       "    </tr>\n",
       "  </thead>\n",
       "  <tbody>\n",
       "    <tr>\n",
       "      <th>0</th>\n",
       "      <td>0</td>\n",
       "      <td>0</td>\n",
       "      <td>1.770887</td>\n",
       "    </tr>\n",
       "    <tr>\n",
       "      <th>1</th>\n",
       "      <td>0</td>\n",
       "      <td>1</td>\n",
       "      <td>2.048674</td>\n",
       "    </tr>\n",
       "    <tr>\n",
       "      <th>2</th>\n",
       "      <td>0</td>\n",
       "      <td>0</td>\n",
       "      <td>2.285792</td>\n",
       "    </tr>\n",
       "    <tr>\n",
       "      <th>3</th>\n",
       "      <td>0</td>\n",
       "      <td>1</td>\n",
       "      <td>1.656177</td>\n",
       "    </tr>\n",
       "    <tr>\n",
       "      <th>4</th>\n",
       "      <td>0</td>\n",
       "      <td>0</td>\n",
       "      <td>3.005670</td>\n",
       "    </tr>\n",
       "    <tr>\n",
       "      <th>...</th>\n",
       "      <td>...</td>\n",
       "      <td>...</td>\n",
       "      <td>...</td>\n",
       "    </tr>\n",
       "    <tr>\n",
       "      <th>195</th>\n",
       "      <td>19</td>\n",
       "      <td>1</td>\n",
       "      <td>4.088935</td>\n",
       "    </tr>\n",
       "    <tr>\n",
       "      <th>196</th>\n",
       "      <td>19</td>\n",
       "      <td>0</td>\n",
       "      <td>5.800627</td>\n",
       "    </tr>\n",
       "    <tr>\n",
       "      <th>197</th>\n",
       "      <td>19</td>\n",
       "      <td>1</td>\n",
       "      <td>4.087051</td>\n",
       "    </tr>\n",
       "    <tr>\n",
       "      <th>198</th>\n",
       "      <td>19</td>\n",
       "      <td>0</td>\n",
       "      <td>5.577837</td>\n",
       "    </tr>\n",
       "    <tr>\n",
       "      <th>199</th>\n",
       "      <td>19</td>\n",
       "      <td>1</td>\n",
       "      <td>3.754343</td>\n",
       "    </tr>\n",
       "  </tbody>\n",
       "</table>\n",
       "<p>200 rows × 3 columns</p>\n",
       "</div>"
      ],
      "text/plain": [
       "     cafe  afternoon      wait\n",
       "0       0          0  1.770887\n",
       "1       0          1  2.048674\n",
       "2       0          0  2.285792\n",
       "3       0          1  1.656177\n",
       "4       0          0  3.005670\n",
       "..    ...        ...       ...\n",
       "195    19          1  4.088935\n",
       "196    19          0  5.800627\n",
       "197    19          1  4.087051\n",
       "198    19          0  5.577837\n",
       "199    19          1  3.754343\n",
       "\n",
       "[200 rows x 3 columns]"
      ]
     },
     "execution_count": 20,
     "metadata": {},
     "output_type": "execute_result"
    }
   ],
   "source": [
    "N_visits = 10\n",
    "afternoon = np.tile(np.arange(2), N_visits * N_cafes // 2)\n",
    "cafe_id = np.repeat(np.arange(N_cafes), N_visits)\n",
    "mu = tf.gather(a_cafe, cafe_id) + tf.gather(b_cafe, cafe_id) * afternoon\n",
    "sigma = 0.5  # std dev within cafes\n",
    "wait = tfd.Normal(loc=mu, scale=sigma).sample(seed=22)\n",
    "d = pd.DataFrame(dict(cafe=cafe_id, afternoon=afternoon, wait=wait))\n",
    "\n",
    "d"
   ]
  },
  {
   "cell_type": "markdown",
   "metadata": {},
   "source": [
    "## Code 14.11"
   ]
  },
  {
   "cell_type": "code",
   "execution_count": 21,
   "metadata": {},
   "outputs": [
    {
     "data": {
      "image/png": "[encoded data removed]",
      "text/plain": [
       "<Figure size 720x480 with 1 Axes>"
      ]
     },
     "metadata": {
      "image/png": {
       "height": 409,
       "width": 613
      }
     },
     "output_type": "display_data"
    }
   ],
   "source": [
    "R = tfp.distributions.LKJ(dimension=2, concentration=2).sample((int(1e4),))\n",
    "az.plot_kde(R[:, 0, 1], bw=2, label=\"correlation\");"
   ]
  },
  {
   "cell_type": "code",
   "execution_count": 22,
   "metadata": {},
   "outputs": [
    {
     "data": {
      "text/plain": [
       "TensorShape([10000, 2, 2])"
      ]
     },
     "execution_count": 22,
     "metadata": {},
     "output_type": "execute_result"
    }
   ],
   "source": [
    "R.shape"
   ]
  },
  {
   "cell_type": "markdown",
   "metadata": {},
   "source": [
    "## Code 14.12"
   ]
  },
  {
   "cell_type": "code",
   "execution_count": 23,
   "metadata": {},
   "outputs": [
    {
     "data": {
      "text/plain": [
       "(<tf.Tensor: shape=(1,), dtype=float32, numpy=array([4.329237], dtype=float32)>,\n",
       " <tf.Tensor: shape=(1,), dtype=float32, numpy=array([-1.258044], dtype=float32)>,\n",
       " <tf.Tensor: shape=(2,), dtype=float32, numpy=array([2.0444112, 1.6233014], dtype=float32)>,\n",
       " <tf.Tensor: shape=(1,), dtype=float32, numpy=array([2.2474763], dtype=float32)>,\n",
       " <tf.Tensor: shape=(2, 2), dtype=float32, numpy=\n",
       " array([[1.        , 0.57116985],\n",
       "        [0.57116985, 1.        ]], dtype=float32)>,\n",
       " <tf.Tensor: shape=(20, 2), dtype=float32, numpy=\n",
       " array([[ 4.0216703 ,  1.3967221 ],\n",
       "        [ 6.9402747 , -0.89416724],\n",
       "        [ 2.9498565 , -1.793858  ],\n",
       "        [ 6.80366   ,  0.809767  ],\n",
       "        [ 0.72936463, -1.6082038 ],\n",
       "        [ 1.6955867 , -1.7332033 ],\n",
       "        [ 1.4974942 , -1.0678556 ],\n",
       "        [ 4.5229445 , -2.044229  ],\n",
       "        [ 5.4288626 ,  0.46630406],\n",
       "        [ 5.8285346 , -1.0251334 ],\n",
       "        [ 6.766739  , -2.060708  ],\n",
       "        [ 3.7747142 , -0.40439963],\n",
       "        [ 2.508614  , -0.9172226 ],\n",
       "        [ 5.8424163 , -3.4578135 ],\n",
       "        [ 5.1406264 , -1.9483068 ],\n",
       "        [ 3.326019  , -1.9034303 ],\n",
       "        [ 1.164988  , -2.1123195 ],\n",
       "        [ 4.1268587 , -4.013627  ],\n",
       "        [ 3.6144884 ,  1.140584  ],\n",
       "        [ 3.0171814 , -2.3126767 ]], dtype=float32)>,\n",
       " <tf.Tensor: shape=(200,), dtype=float32, numpy=\n",
       " array([ 1.8919723 ,  6.3752193 ,  2.941361  ,  7.3523827 ,  4.529119  ,\n",
       "         4.4364343 ,  2.0136502 , 10.8069515 ,  4.3841863 ,  6.713778  ,\n",
       "         7.7892504 ,  4.2753277 ,  3.6523185 ,  6.3645782 , 10.012329  ,\n",
       "         8.839542  ,  5.0959177 ,  7.0670934 ,  4.5211987 ,  7.749793  ,\n",
       "         8.986344  , -1.39008   ,  4.4555674 ,  1.0210087 ,  3.3862936 ,\n",
       "         0.18735504,  7.842803  ,  1.2837707 ,  1.3146147 ,  1.1854074 ,\n",
       "        10.8370285 ,  7.6546173 ,  7.8322444 ,  5.9014    ,  6.005601  ,\n",
       "        11.1592455 ,  5.527171  ,  7.035028  ,  3.7930858 ,  9.49533   ,\n",
       "         3.6799564 , -0.3500706 ,  3.5224872 , -0.43317503, -0.05009598,\n",
       "        -1.9547418 , -0.5107628 , -0.10662454, -1.3066697 , -1.9926152 ,\n",
       "         2.2473202 ,  0.19682877, -0.70104027,  4.025024  ,  2.899376  ,\n",
       "         2.0280056 ,  0.75720894,  3.344746  ,  1.3166637 ,  3.390358  ,\n",
       "         2.3829534 ,  1.2437403 ,  4.1063375 , -1.95087   ,  1.5965672 ,\n",
       "        -1.567467  ,  4.17439   ,  3.0915432 ,  0.11150825, -0.6387011 ,\n",
       "         5.042015  , -0.90880775,  2.9326    ,  6.21507   ,  2.477263  ,\n",
       "         3.0149496 ,  5.850668  ,  2.9663305 ,  3.0628011 ,  0.5083735 ,\n",
       "         4.322918  ,  1.4261007 ,  0.5848584 ,  6.450585  ,  3.3374221 ,\n",
       "         2.5256553 ,  4.0533195 ,  7.0472775 ,  2.2704947 ,  7.2162976 ,\n",
       "         5.5433826 ,  8.439574  ,  6.5879993 ,  6.2066274 ,  7.2435565 ,\n",
       "         2.9388804 ,  5.4562826 ,  5.6606884 ,  3.693823  ,  7.0975947 ,\n",
       "         7.5722256 ,  2.12256   ,  4.651222  , 10.678104  ,  6.940036  ,\n",
       "         4.442011  ,  6.797421  ,  3.0892344 , 10.848054  ,  3.261979  ,\n",
       "         2.992853  ,  1.6233345 , -0.7907164 ,  6.1215873 ,  3.130457  ,\n",
       "         3.5992517 ,  3.4776366 ,  5.8242083 ,  7.4599934 ,  4.0320125 ,\n",
       "         0.6875255 ,  4.3224945 ,  0.8448832 ,  5.5375032 ,  4.948037  ,\n",
       "         2.027876  ,  2.566323  ,  0.9551172 ,  1.1305423 , -0.42777574,\n",
       "        11.773739  ,  2.481843  ,  5.3675337 ,  0.1254468 ,  7.732831  ,\n",
       "         4.233059  ,  3.8606281 ,  0.5188874 ,  8.607665  , -1.1943057 ,\n",
       "         7.1691046 ,  3.7423167 ,  8.333852  ,  1.8578495 ,  2.4610918 ,\n",
       "         2.9647927 ,  1.1931164 ,  3.284525  ,  6.367384  ,  1.9255563 ,\n",
       "         4.323364  , -0.98705184, -0.44976497,  3.8583155 ,  2.2117095 ,\n",
       "        -2.867331  ,  6.031597  ,  3.7799816 ,  4.323685  ,  5.167129  ,\n",
       "         0.8095032 , -2.7122028 ,  3.2550483 , -1.1159525 ,  3.6804752 ,\n",
       "         0.4818313 , -0.54422164, -2.8659186 ,  3.2176201 , -4.962498  ,\n",
       "         3.9498627 , -0.67583865,  0.30057526,  2.2961636 ,  7.320616  ,\n",
       "         0.8989614 ,  5.4414177 , -3.0865304 ,  4.97421   ,  2.0526776 ,\n",
       "         5.224749  ,  9.411446  ,  0.74864125,  6.6118093 ,  3.772549  ,\n",
       "         4.3773975 ,  6.1428194 ,  4.1460204 ,  5.021465  ,  6.011382  ,\n",
       "         0.8436909 , -2.728637  ,  3.1060774 ,  0.36859298,  0.06414676,\n",
       "         2.804037  ,  3.5559733 , -1.0424124 ,  4.0310087 , -1.4893022 ],\n",
       "       dtype=float32)>)"
      ]
     },
     "execution_count": 23,
     "metadata": {},
     "output_type": "execute_result"
    }
   ],
   "source": [
    "def model_14_1(cafe, afternoon):\n",
    "    def _generator():\n",
    "        alpha = yield Root(tfd.Sample(tfd.Normal(loc=5.,scale=2.), sample_shape=1))\n",
    "        beta  = yield Root(tfd.Sample(tfd.Normal(loc=-1., scale=0.5), sample_shape=1))\n",
    "        sigma_cafe = yield Root(tfd.Sample(tfd.Exponential(rate=1.), sample_shape=2))\n",
    "        sigma = yield Root(tfd.Sample(tfd.Exponential(rate=1.), sample_shape=1))\n",
    "        Rho = yield Root(tfp.distributions.LKJ(dimension=2, concentration=2.))\n",
    "        \n",
    "        Mu = tf.concat([alpha, beta], axis=-1)\n",
    "        \n",
    "        a_cafe_b_cafe = yield tfd.Sample(\n",
    "                tfd.MultivariateNormalTriL(\n",
    "                        loc = Mu,\n",
    "                        scale_tril = tf.linalg.LinearOperatorDiag(sigma_cafe).matmul(Rho)\n",
    "                    ),sample_shape=20)\n",
    "\n",
    "        a_cafe = a_cafe_b_cafe[:,0]\n",
    "        b_cafe = a_cafe_b_cafe[:,1]\n",
    "        \n",
    "        term1 = tf.gather(a_cafe, cafe, axis=-1)\n",
    "        term2 = tf.gather(b_cafe, cafe, axis=-1)\n",
    "    \n",
    "        mu = term1 + term2 * afternoon\n",
    "        \n",
    "        wait = yield tfd.Independent(\n",
    "            tfd.Normal(loc=mu, scale=sigma),\n",
    "            reinterpreted_batch_ndims=1)\n",
    "        \n",
    "        \n",
    "    return tfd.JointDistributionCoroutine(_generator, validate_args=False) \n",
    "        \n",
    "        \n",
    "jdc_14_1 = model_14_1(d.cafe.values, d.afternoon.values)\n",
    "        \n",
    "jdc_14_1.sample()"
   ]
  },
  {
   "cell_type": "code",
   "execution_count": 24,
   "metadata": {},
   "outputs": [
    {
     "data": {
      "text/plain": [
       "<tf.Tensor: shape=(2, 2), dtype=float32, numpy=\n",
       "array([[ 1.        , -0.14318782],\n",
       "       [-0.14318782,  1.        ]], dtype=float32)>"
      ]
     },
     "execution_count": 24,
     "metadata": {},
     "output_type": "execute_result"
    }
   ],
   "source": [
    "alpha_init, beta_init, sigma_cafe_init, sigma_init, Rho_init, a_cafe_b_cafe_init, _ = jdc_14_1.sample()\n",
    "\n",
    "# let's see Rho and make sure that what we have\n",
    "# looks like a correlation matrix as a sanity check\n",
    "#\n",
    "# Now this will a prior sample so most likely\n",
    "# we will get the correct sample however when we will do HMC\n",
    "# we maybe extra care\n",
    "Rho_init"
   ]
  },
  {
   "cell_type": "code",
   "execution_count": 25,
   "metadata": {},
   "outputs": [],
   "source": [
    "init_state = [\n",
    "    alpha_init,\n",
    "    beta_init,\n",
    "    sigma_cafe_init,\n",
    "    sigma_init,\n",
    "    Rho_init,\n",
    "    a_cafe_b_cafe_init\n",
    "]\n",
    "\n",
    "bijectors = [\n",
    "    tfb.Identity(),  # alpha\n",
    "    tfb.Identity(),  # beta\n",
    "    tfb.Exp(),       # sigma_cafe\n",
    "    tfb.Exp(),       # sigma\n",
    "    tfb.CorrelationCholesky(),  # Rho\n",
    "    tfb.Identity(),  # a_cafe_b_cafe\n",
    "]\n",
    "\n",
    "observed_data = (tf.cast(d.wait.values, dtype=tf.float32),)\n",
    "\n",
    "# Not working !\n",
    "# trace_14_1 = sample_posterior(\n",
    "#                     jdc_14_1, \n",
    "#                     observed_data=observed_data,\n",
    "#                     params=['alpha', 'beta', 'sigma_cafe', 'sigma', 'Rho', 'a_cafe_b_cafe'],\n",
    "#                     num_samples=1000,\n",
    "#                     burnin=500,\n",
    "#                     init_state=init_state,\n",
    "#                     bijectors=bijectors\n",
    "#                     )"
   ]
  },
  {
   "cell_type": "markdown",
   "metadata": {},
   "source": [
    "## Code 14.13- 14.17  (Not implented as above section is not working !)"
   ]
  },
  {
   "cell_type": "markdown",
   "metadata": {},
   "source": [
    "## Code 14.18"
   ]
  },
  {
   "cell_type": "code",
   "execution_count": 26,
   "metadata": {},
   "outputs": [],
   "source": [
    "d = pd.read_csv(CHIMPANZEE_DATASET_PATH, sep=\";\")\n",
    "d[\"block_id\"] = d.block\n",
    "d[\"treatment\"] = 1 + d.prosoc_left + 2 * d.condition\n",
    "\n",
    "dat = dict(L=d.pulled_left.values, tid=d.treatment.values - 1,\n",
    "           actor=d.actor.values - 1, block_id=d.block_id.values - 1)\n",
    "\n",
    "# actor 0 to 6 => 7\n",
    "# tid 0 to 3 => 4"
   ]
  },
  {
   "cell_type": "code",
   "execution_count": 27,
   "metadata": {},
   "outputs": [
    {
     "name": "stdout",
     "output_type": "stream",
     "text": [
      "(7, 4)\n"
     ]
    },
    {
     "data": {
      "text/plain": [
       "(<tf.Tensor: shape=(4,), dtype=float32, numpy=array([ 0.6510677 , -0.07425141, -0.6429587 ,  0.06775927], dtype=float32)>,\n",
       " <tf.Tensor: shape=(4,), dtype=float32, numpy=array([1.4271228 , 0.53218937, 2.8986797 , 2.9929523 ], dtype=float32)>,\n",
       " <tf.Tensor: shape=(4, 4), dtype=float32, numpy=\n",
       " array([[ 1.0000000e+00,  4.1649806e-01,  1.2795827e-01, -6.1429280e-01],\n",
       "        [ 4.1649806e-01,  1.0000000e+00,  3.1884760e-05,  2.5672838e-01],\n",
       "        [ 1.2795827e-01,  3.1884760e-05,  1.0000000e+00,  2.5378144e-01],\n",
       "        [-6.1429280e-01,  2.5672838e-01,  2.5378144e-01,  1.0000000e+00]],\n",
       "       dtype=float32)>,\n",
       " <tf.Tensor: shape=(4,), dtype=float32, numpy=\n",
       " array([2.6611207e+00, 1.7475338e+00, 2.8552241e+00, 1.2879317e-03],\n",
       "       dtype=float32)>,\n",
       " <tf.Tensor: shape=(4, 4), dtype=float32, numpy=\n",
       " array([[ 1.        ,  0.45610034,  0.07728842,  0.410158  ],\n",
       "        [ 0.45610034,  1.        , -0.02243078,  0.3912393 ],\n",
       "        [ 0.07728842, -0.02243078,  1.        ,  0.159415  ],\n",
       "        [ 0.410158  ,  0.3912393 ,  0.159415  ,  1.        ]],\n",
       "       dtype=float32)>,\n",
       " <tf.Tensor: shape=(7, 4), dtype=float32, numpy=\n",
       " array([[ 2.0415425e+00,  1.7039238e-01, -6.9970304e-01, -3.2595849e-01],\n",
       "        [-1.0936005e-01,  3.4299456e-02, -5.0699210e+00,  1.1667262e+00],\n",
       "        [-1.1448137e+00,  8.4412134e-01, -2.9729307e-03,  4.0870647e+00],\n",
       "        [ 1.0194842e+00, -1.5441130e-01,  2.8994319e+00, -2.5153346e+00],\n",
       "        [-9.7827274e-01,  1.3851812e-01, -2.8743639e+00,  9.4428825e-01],\n",
       "        [-4.6048152e-01, -3.8858405e-01,  3.4695461e+00, -9.3111086e-01],\n",
       "        [ 1.3629104e+00, -3.7688199e-01,  1.3557408e+00, -1.3034561e+00]],\n",
       "       dtype=float32)>,\n",
       " <tf.Tensor: shape=(6, 4), dtype=float32, numpy=\n",
       " array([[-2.3727038e+00, -6.1984432e-01,  1.3973266e-03, -5.1878992e-04],\n",
       "        [-4.4664087e+00,  1.3222665e+00,  1.0067292e+00, -3.9337092e-04],\n",
       "        [ 1.6207929e+00,  1.1866177e+00, -1.8791890e+00,  1.0039966e-03],\n",
       "        [ 2.0498807e+00,  2.8837535e+00,  5.2247925e+00,  4.4357767e-03],\n",
       "        [-7.0484190e+00, -1.6280420e+00, -2.3361139e+00,  9.5761858e-04],\n",
       "        [ 5.5302043e+00,  3.5190127e+00,  2.1449313e+00,  8.3449006e-04]],\n",
       "       dtype=float32)>,\n",
       " <tf.Tensor: shape=(504,), dtype=float32, numpy=\n",
       " array([1., 1., 1., 1., 0., 0., 1., 0., 1., 1., 1., 0., 0., 1., 1., 0., 1.,\n",
       "        1., 1., 1., 1., 1., 1., 0., 1., 1., 0., 1., 1., 0., 1., 1., 0., 1.,\n",
       "        0., 1., 0., 1., 0., 1., 0., 0., 1., 0., 0., 0., 1., 0., 1., 1., 1.,\n",
       "        1., 1., 0., 1., 0., 0., 1., 1., 0., 1., 1., 1., 0., 0., 1., 0., 0.,\n",
       "        1., 1., 1., 1., 0., 1., 1., 1., 0., 1., 1., 0., 1., 1., 1., 0., 0.,\n",
       "        0., 0., 0., 1., 0., 0., 0., 1., 1., 1., 0., 1., 1., 0., 1., 1., 1.,\n",
       "        0., 0., 0., 1., 0., 1., 0., 0., 0., 0., 0., 0., 0., 0., 1., 0., 1.,\n",
       "        1., 0., 1., 1., 0., 0., 1., 1., 0., 0., 0., 0., 1., 0., 1., 1., 1.,\n",
       "        1., 0., 1., 1., 0., 1., 0., 0., 1., 1., 1., 1., 1., 1., 1., 0., 1.,\n",
       "        0., 0., 0., 1., 0., 0., 1., 1., 1., 1., 0., 1., 1., 1., 1., 0., 1.,\n",
       "        1., 0., 0., 1., 1., 1., 1., 1., 0., 1., 1., 0., 1., 0., 1., 1., 1.,\n",
       "        1., 0., 1., 1., 1., 0., 1., 1., 1., 1., 0., 1., 1., 0., 1., 1., 1.,\n",
       "        1., 1., 0., 1., 1., 1., 0., 1., 1., 1., 1., 1., 1., 1., 1., 1., 0.,\n",
       "        0., 1., 1., 1., 1., 0., 1., 0., 0., 1., 1., 1., 0., 1., 1., 1., 1.,\n",
       "        1., 0., 0., 1., 0., 0., 0., 0., 0., 1., 1., 0., 1., 1., 0., 1., 0.,\n",
       "        1., 1., 1., 1., 0., 0., 1., 0., 0., 1., 0., 1., 1., 1., 1., 1., 1.,\n",
       "        1., 1., 0., 1., 1., 0., 0., 0., 0., 1., 0., 1., 1., 0., 1., 1., 0.,\n",
       "        1., 1., 1., 0., 0., 1., 1., 1., 1., 1., 0., 1., 1., 0., 1., 0., 0.,\n",
       "        0., 0., 0., 0., 1., 1., 0., 1., 1., 1., 1., 0., 1., 1., 0., 0., 1.,\n",
       "        0., 1., 0., 0., 0., 0., 0., 0., 1., 0., 1., 0., 1., 0., 1., 1., 0.,\n",
       "        0., 1., 1., 0., 0., 0., 1., 0., 0., 1., 1., 0., 0., 0., 0., 1., 0.,\n",
       "        0., 0., 0., 1., 1., 1., 0., 1., 0., 1., 1., 0., 0., 1., 0., 0., 1.,\n",
       "        0., 0., 1., 1., 1., 1., 1., 0., 1., 0., 0., 0., 0., 0., 1., 1., 0.,\n",
       "        0., 1., 0., 0., 0., 0., 1., 1., 1., 1., 1., 0., 1., 1., 1., 0., 1.,\n",
       "        1., 1., 1., 0., 1., 1., 1., 1., 0., 0., 1., 0., 0., 0., 0., 1., 0.,\n",
       "        0., 1., 1., 1., 1., 0., 1., 1., 1., 1., 0., 1., 1., 1., 1., 0., 0.,\n",
       "        0., 0., 1., 1., 1., 1., 1., 0., 1., 0., 1., 1., 0., 1., 0., 1., 1.,\n",
       "        1., 1., 0., 0., 1., 1., 1., 0., 0., 0., 0., 0., 1., 0., 0., 1., 0.,\n",
       "        0., 0., 0., 0., 1., 1., 0., 1., 1., 1., 1., 1., 0., 1., 1., 1., 1.,\n",
       "        0., 0., 0., 1., 0., 0., 0., 0., 1., 1., 1.], dtype=float32)>)"
      ]
     },
     "execution_count": 27,
     "metadata": {},
     "output_type": "execute_result"
    }
   ],
   "source": [
    "def model_14_2(tid, actor, block_id, num_chains):\n",
    "    \n",
    "    # we need to create the indexes that make\n",
    "    # gather_nd happy\n",
    "    actor_tid = tf.stack([actor, tid], axis=1)\n",
    "    block_tid = tf.stack([block_id, tid], axis=1)\n",
    "    batch_dims = 0\n",
    "    \n",
    "    if num_chains > 1:\n",
    "        actor_tid_tiled =  tf.tile(actor_tid, (num_chains, 1))\n",
    "        actor_tid_reshaped = tf.reshape(actor_tid_tiled, (num_chains, 504, 2))\n",
    "        \n",
    "        actor_tid = actor_tid_reshaped\n",
    "        \n",
    "        block_tid_tiled =  tf.tile(block_tid, (num_chains, 1))\n",
    "        block_tid_reshaped = tf.reshape(block_tid_tiled, (num_chains, 504, 2))\n",
    "        \n",
    "        block_tid = block_tid_reshaped\n",
    "        \n",
    "        batch_dims = 1\n",
    "        \n",
    "    \n",
    "    def _generator():\n",
    "        # fixed priors\n",
    "        g = yield Root(tfd.Sample(tfd.Normal(loc=0., scale=1.), sample_shape=4))\n",
    "        sigma_actor = yield Root(tfd.Sample(tfd.Exponential(rate=1.), sample_shape=4))\n",
    "        # note - not using Sample as it does not work with it\n",
    "        rho_actor = yield Root(tfp.distributions.LKJ(dimension=4, concentration=4.))\n",
    "        sigma_block = yield Root(tfd.Sample(tfd.Exponential(rate=1.), sample_shape=4))\n",
    "        # note - not using Sample as it does not work with it\n",
    "        rho_block = yield Root(tfp.distributions.LKJ(dimension=4, concentration=4.))\n",
    "        # adaptive priors\n",
    "        \n",
    "        alpha = yield tfd.Sample(\n",
    "                tfd.MultivariateNormalTriL(\n",
    "                        loc = 0.,\n",
    "                        scale_tril = tf.linalg.LinearOperatorDiag(sigma_actor).matmul(rho_actor)\n",
    "                    ),sample_shape=7)\n",
    "        \n",
    "        beta = yield tfd.Sample(\n",
    "                tfd.MultivariateNormalTriL(\n",
    "                        loc = 0.,\n",
    "                        scale_tril = tf.linalg.LinearOperatorDiag(sigma_block).matmul(rho_block)\n",
    "                    ),sample_shape=6)\n",
    "        \n",
    "  \n",
    "        print(alpha.shape)\n",
    "\n",
    "        term1 = tf.gather(g, tid, axis=-1)\n",
    "        term2 = tf.gather_nd(alpha, actor_tid, batch_dims=batch_dims)\n",
    "        term3 = tf.gather_nd(alpha, block_tid, batch_dims=batch_dims)\n",
    "        \n",
    "        logit_p =  term1 + term2 + term3\n",
    "        \n",
    "        L = yield tfd.Independent(tfd.Binomial(total_count=1, logits=logit_p), reinterpreted_batch_ndims=1)\n",
    "        \n",
    "        \n",
    "    return tfd.JointDistributionCoroutine(_generator, validate_args=False) \n",
    "        \n",
    "    \n",
    "jdc_14_2 = model_14_2(dat[\"tid\"], dat[\"actor\"], dat[\"block_id\"], num_chains=1)\n",
    "\n",
    "jdc_14_2.sample()"
   ]
  },
  {
   "cell_type": "code",
   "execution_count": 28,
   "metadata": {},
   "outputs": [
    {
     "name": "stdout",
     "output_type": "stream",
     "text": [
      "(7, 4)\n"
     ]
    }
   ],
   "source": [
    "g_init, sigma_actor_init, rho_actor_init, sigma_block_init, rho_block_init, alpha_init, beta_init, _ = jdc_14_2.sample()"
   ]
  },
  {
   "cell_type": "code",
   "execution_count": 29,
   "metadata": {},
   "outputs": [
    {
     "name": "stdout",
     "output_type": "stream",
     "text": [
      "WARNING:tensorflow:From /Users/ksachdeva/Desktop/Dev/myoss/rethinking-tensorflow-probability/env/lib/python3.7/site-packages/tensorflow_core/python/ops/linalg/linear_operator_diag.py:166: calling LinearOperator.__init__ (from tensorflow.python.ops.linalg.linear_operator) with graph_parents is deprecated and will be removed in a future version.\n",
      "Instructions for updating:\n",
      "Do not pass `graph_parents`.  They will  no longer be used.\n",
      "(7, 4)\n",
      "(7, 4)\n",
      "(7, 4)\n",
      "(7, 4)\n"
     ]
    }
   ],
   "source": [
    "init_state = [\n",
    "    g_init,\n",
    "    sigma_actor_init,\n",
    "    rho_actor_init, \n",
    "    sigma_block_init, \n",
    "    rho_block_init, \n",
    "    alpha_init, \n",
    "    beta_init,\n",
    "]\n",
    "\n",
    "bijectors = [\n",
    "    tfb.Identity(),\n",
    "    tfb.Exp(),\n",
    "    tfb.CorrelationCholesky(),\n",
    "    tfb.Exp(),\n",
    "    tfb.CorrelationCholesky(),\n",
    "    tfb.Identity(),\n",
    "    tfb.Identity()\n",
    "]\n",
    "\n",
    "\n",
    "observed_data = (tf.cast(dat[\"L\"], dtype=tf.float32),)\n",
    "\n",
    "trace_14_2 = sample_posterior(\n",
    "                    jdc_14_2, \n",
    "                    observed_data=observed_data,\n",
    "                    params=['g', 'sigma_actor', 'rho_actor', 'sigma_block', 'rho_block', 'alpha', 'beta'],\n",
    "                    num_samples=2000,\n",
    "                    burnin=500,\n",
    "                    init_state=init_state,\n",
    "                    bijectors=bijectors)"
   ]
  },
  {
   "cell_type": "markdown",
   "metadata": {},
   "source": [
    "What is happening is that arviz assigns 7 to the chain dimension and this screws up the\n",
    "entire structure in xarray. Really arviz does not work if there is 1 chain. \n",
    "\n",
    "Now I have problem using 2 chains so that is the real problem indeed !"
   ]
  },
  {
   "cell_type": "code",
   "execution_count": 30,
   "metadata": {},
   "outputs": [
    {
     "data": {
      "text/html": [
       "<pre>&lt;xarray.Dataset&gt;\n",
       "Dimensions:          (alpha_dim_0: 4, beta_dim_0: 4, chain: 7, draw: 2000, rho_actor_dim_0: 4, rho_block_dim_0: 4)\n",
       "Coordinates:\n",
       "  * chain            (chain) int64 0 1 2 3 4 5 6\n",
       "  * draw             (draw) int64 0 1 2 3 4 5 ... 1994 1995 1996 1997 1998 1999\n",
       "  * rho_actor_dim_0  (rho_actor_dim_0) int64 0 1 2 3\n",
       "  * rho_block_dim_0  (rho_block_dim_0) int64 0 1 2 3\n",
       "  * alpha_dim_0      (alpha_dim_0) int64 0 1 2 3\n",
       "  * beta_dim_0       (beta_dim_0) int64 0 1 2 3\n",
       "Data variables:\n",
       "    g                (chain, draw) float32 -0.08867444 -0.26121157 ... nan nan\n",
       "    sigma_actor      (chain, draw) float32 0.6288137 0.71570545 ... nan nan\n",
       "    rho_actor        (chain, draw, rho_actor_dim_0) float32 1.0 0.0 ... nan nan\n",
       "    sigma_block      (chain, draw) float32 0.5328188 0.6686779 ... nan nan\n",
       "    rho_block        (chain, draw, rho_block_dim_0) float32 1.0 0.0 ... nan nan\n",
       "    alpha            (chain, draw, alpha_dim_0) float32 -0.2285537 ... 1.0252388\n",
       "    beta             (chain, draw, beta_dim_0) float32 -0.23868859 ... nan\n",
       "Attributes:\n",
       "    created_at:  2020-02-17T18:23:39.032726</pre>"
      ],
      "text/plain": [
       "<xarray.Dataset>\n",
       "Dimensions:          (alpha_dim_0: 4, beta_dim_0: 4, chain: 7, draw: 2000, rho_actor_dim_0: 4, rho_block_dim_0: 4)\n",
       "Coordinates:\n",
       "  * chain            (chain) int64 0 1 2 3 4 5 6\n",
       "  * draw             (draw) int64 0 1 2 3 4 5 ... 1994 1995 1996 1997 1998 1999\n",
       "  * rho_actor_dim_0  (rho_actor_dim_0) int64 0 1 2 3\n",
       "  * rho_block_dim_0  (rho_block_dim_0) int64 0 1 2 3\n",
       "  * alpha_dim_0      (alpha_dim_0) int64 0 1 2 3\n",
       "  * beta_dim_0       (beta_dim_0) int64 0 1 2 3\n",
       "Data variables:\n",
       "    g                (chain, draw) float32 -0.08867444 -0.26121157 ... nan nan\n",
       "    sigma_actor      (chain, draw) float32 0.6288137 0.71570545 ... nan nan\n",
       "    rho_actor        (chain, draw, rho_actor_dim_0) float32 1.0 0.0 ... nan nan\n",
       "    sigma_block      (chain, draw) float32 0.5328188 0.6686779 ... nan nan\n",
       "    rho_block        (chain, draw, rho_block_dim_0) float32 1.0 0.0 ... nan nan\n",
       "    alpha            (chain, draw, alpha_dim_0) float32 -0.2285537 ... 1.0252388\n",
       "    beta             (chain, draw, beta_dim_0) float32 -0.23868859 ... nan\n",
       "Attributes:\n",
       "    created_at:  2020-02-17T18:23:39.032726"
      ]
     },
     "execution_count": 30,
     "metadata": {},
     "output_type": "execute_result"
    }
   ],
   "source": [
    "trace_14_2.posterior"
   ]
  },
  {
   "cell_type": "code",
   "execution_count": 31,
   "metadata": {},
   "outputs": [
    {
     "name": "stderr",
     "output_type": "stream",
     "text": [
      "arviz.stats.stats_utils - WARNING - Array contains NaN-value.\n",
      "arviz.stats.stats_utils - WARNING - Array contains NaN-value.\n",
      "arviz.stats.stats_utils - WARNING - Array contains NaN-value.\n",
      "arviz.stats.stats_utils - WARNING - Array contains NaN-value.\n",
      "arviz.stats.stats_utils - WARNING - Array contains NaN-value.\n",
      "arviz.stats.stats_utils - WARNING - Array contains NaN-value.\n",
      "arviz.stats.stats_utils - WARNING - Array contains NaN-value.\n",
      "arviz.stats.stats_utils - WARNING - Array contains NaN-value.\n",
      "arviz.stats.stats_utils - WARNING - Array contains NaN-value.\n",
      "arviz.stats.stats_utils - WARNING - Array contains NaN-value.\n",
      "arviz.stats.stats_utils - WARNING - Array contains NaN-value.\n",
      "arviz.stats.stats_utils - WARNING - Array contains NaN-value.\n",
      "arviz.stats.stats_utils - WARNING - Array contains NaN-value.\n",
      "arviz.stats.stats_utils - WARNING - Array contains NaN-value.\n",
      "arviz.stats.stats_utils - WARNING - Array contains NaN-value.\n"
     ]
    },
    {
     "data": {
      "text/html": [
       "<div>\n",
       "<style scoped>\n",
       "    .dataframe tbody tr th:only-of-type {\n",
       "        vertical-align: middle;\n",
       "    }\n",
       "\n",
       "    .dataframe tbody tr th {\n",
       "        vertical-align: top;\n",
       "    }\n",
       "\n",
       "    .dataframe thead th {\n",
       "        text-align: right;\n",
       "    }\n",
       "</style>\n",
       "<table border=\"1\" class=\"dataframe\">\n",
       "  <thead>\n",
       "    <tr style=\"text-align: right;\">\n",
       "      <th></th>\n",
       "      <th>mean</th>\n",
       "      <th>sd</th>\n",
       "      <th>hpd_3%</th>\n",
       "      <th>hpd_97%</th>\n",
       "      <th>mcse_mean</th>\n",
       "      <th>mcse_sd</th>\n",
       "      <th>ess_mean</th>\n",
       "      <th>ess_sd</th>\n",
       "      <th>ess_bulk</th>\n",
       "      <th>ess_tail</th>\n",
       "      <th>r_hat</th>\n",
       "    </tr>\n",
       "  </thead>\n",
       "  <tbody>\n",
       "    <tr>\n",
       "      <th>g</th>\n",
       "      <td>0.370</td>\n",
       "      <td>0.506</td>\n",
       "      <td>-1.634</td>\n",
       "      <td>NaN</td>\n",
       "      <td>NaN</td>\n",
       "      <td>NaN</td>\n",
       "      <td>NaN</td>\n",
       "      <td>NaN</td>\n",
       "      <td>NaN</td>\n",
       "      <td>NaN</td>\n",
       "      <td>NaN</td>\n",
       "    </tr>\n",
       "    <tr>\n",
       "      <th>sigma_actor</th>\n",
       "      <td>0.813</td>\n",
       "      <td>0.437</td>\n",
       "      <td>0.057</td>\n",
       "      <td>NaN</td>\n",
       "      <td>NaN</td>\n",
       "      <td>NaN</td>\n",
       "      <td>NaN</td>\n",
       "      <td>NaN</td>\n",
       "      <td>NaN</td>\n",
       "      <td>NaN</td>\n",
       "      <td>NaN</td>\n",
       "    </tr>\n",
       "    <tr>\n",
       "      <th>rho_actor[0]</th>\n",
       "      <td>0.612</td>\n",
       "      <td>0.338</td>\n",
       "      <td>-0.736</td>\n",
       "      <td>NaN</td>\n",
       "      <td>NaN</td>\n",
       "      <td>NaN</td>\n",
       "      <td>NaN</td>\n",
       "      <td>NaN</td>\n",
       "      <td>NaN</td>\n",
       "      <td>NaN</td>\n",
       "      <td>NaN</td>\n",
       "    </tr>\n",
       "    <tr>\n",
       "      <th>rho_actor[1]</th>\n",
       "      <td>0.291</td>\n",
       "      <td>0.397</td>\n",
       "      <td>-0.717</td>\n",
       "      <td>NaN</td>\n",
       "      <td>NaN</td>\n",
       "      <td>NaN</td>\n",
       "      <td>NaN</td>\n",
       "      <td>NaN</td>\n",
       "      <td>NaN</td>\n",
       "      <td>NaN</td>\n",
       "      <td>NaN</td>\n",
       "    </tr>\n",
       "    <tr>\n",
       "      <th>rho_actor[2]</th>\n",
       "      <td>0.241</td>\n",
       "      <td>0.332</td>\n",
       "      <td>-0.625</td>\n",
       "      <td>NaN</td>\n",
       "      <td>NaN</td>\n",
       "      <td>NaN</td>\n",
       "      <td>NaN</td>\n",
       "      <td>NaN</td>\n",
       "      <td>NaN</td>\n",
       "      <td>NaN</td>\n",
       "      <td>NaN</td>\n",
       "    </tr>\n",
       "    <tr>\n",
       "      <th>rho_actor[3]</th>\n",
       "      <td>0.151</td>\n",
       "      <td>0.280</td>\n",
       "      <td>0.000</td>\n",
       "      <td>NaN</td>\n",
       "      <td>NaN</td>\n",
       "      <td>NaN</td>\n",
       "      <td>NaN</td>\n",
       "      <td>NaN</td>\n",
       "      <td>NaN</td>\n",
       "      <td>NaN</td>\n",
       "      <td>NaN</td>\n",
       "    </tr>\n",
       "    <tr>\n",
       "      <th>sigma_block</th>\n",
       "      <td>1.390</td>\n",
       "      <td>0.974</td>\n",
       "      <td>0.056</td>\n",
       "      <td>NaN</td>\n",
       "      <td>NaN</td>\n",
       "      <td>NaN</td>\n",
       "      <td>NaN</td>\n",
       "      <td>NaN</td>\n",
       "      <td>NaN</td>\n",
       "      <td>NaN</td>\n",
       "      <td>NaN</td>\n",
       "    </tr>\n",
       "    <tr>\n",
       "      <th>rho_block[0]</th>\n",
       "      <td>0.279</td>\n",
       "      <td>0.548</td>\n",
       "      <td>-0.928</td>\n",
       "      <td>NaN</td>\n",
       "      <td>NaN</td>\n",
       "      <td>NaN</td>\n",
       "      <td>NaN</td>\n",
       "      <td>NaN</td>\n",
       "      <td>NaN</td>\n",
       "      <td>NaN</td>\n",
       "      <td>NaN</td>\n",
       "    </tr>\n",
       "    <tr>\n",
       "      <th>rho_block[1]</th>\n",
       "      <td>0.275</td>\n",
       "      <td>0.454</td>\n",
       "      <td>-0.857</td>\n",
       "      <td>NaN</td>\n",
       "      <td>NaN</td>\n",
       "      <td>NaN</td>\n",
       "      <td>NaN</td>\n",
       "      <td>NaN</td>\n",
       "      <td>NaN</td>\n",
       "      <td>NaN</td>\n",
       "      <td>NaN</td>\n",
       "    </tr>\n",
       "    <tr>\n",
       "      <th>rho_block[2]</th>\n",
       "      <td>0.171</td>\n",
       "      <td>0.407</td>\n",
       "      <td>-0.878</td>\n",
       "      <td>NaN</td>\n",
       "      <td>NaN</td>\n",
       "      <td>NaN</td>\n",
       "      <td>NaN</td>\n",
       "      <td>NaN</td>\n",
       "      <td>NaN</td>\n",
       "      <td>NaN</td>\n",
       "      <td>NaN</td>\n",
       "    </tr>\n",
       "    <tr>\n",
       "      <th>rho_block[3]</th>\n",
       "      <td>0.186</td>\n",
       "      <td>0.333</td>\n",
       "      <td>0.000</td>\n",
       "      <td>NaN</td>\n",
       "      <td>NaN</td>\n",
       "      <td>NaN</td>\n",
       "      <td>NaN</td>\n",
       "      <td>NaN</td>\n",
       "      <td>NaN</td>\n",
       "      <td>NaN</td>\n",
       "      <td>NaN</td>\n",
       "    </tr>\n",
       "    <tr>\n",
       "      <th>alpha[0]</th>\n",
       "      <td>0.083</td>\n",
       "      <td>0.670</td>\n",
       "      <td>-0.984</td>\n",
       "      <td>1.369</td>\n",
       "      <td>0.220</td>\n",
       "      <td>0.161</td>\n",
       "      <td>9.0</td>\n",
       "      <td>9.0</td>\n",
       "      <td>10.0</td>\n",
       "      <td>60.0</td>\n",
       "      <td>1.81</td>\n",
       "    </tr>\n",
       "    <tr>\n",
       "      <th>alpha[1]</th>\n",
       "      <td>0.072</td>\n",
       "      <td>0.435</td>\n",
       "      <td>-0.666</td>\n",
       "      <td>0.966</td>\n",
       "      <td>0.123</td>\n",
       "      <td>0.089</td>\n",
       "      <td>12.0</td>\n",
       "      <td>12.0</td>\n",
       "      <td>13.0</td>\n",
       "      <td>47.0</td>\n",
       "      <td>1.53</td>\n",
       "    </tr>\n",
       "    <tr>\n",
       "      <th>alpha[2]</th>\n",
       "      <td>0.189</td>\n",
       "      <td>1.276</td>\n",
       "      <td>-1.490</td>\n",
       "      <td>2.799</td>\n",
       "      <td>0.447</td>\n",
       "      <td>0.328</td>\n",
       "      <td>8.0</td>\n",
       "      <td>8.0</td>\n",
       "      <td>10.0</td>\n",
       "      <td>31.0</td>\n",
       "      <td>1.95</td>\n",
       "    </tr>\n",
       "    <tr>\n",
       "      <th>alpha[3]</th>\n",
       "      <td>0.237</td>\n",
       "      <td>1.123</td>\n",
       "      <td>-1.464</td>\n",
       "      <td>2.477</td>\n",
       "      <td>0.365</td>\n",
       "      <td>0.266</td>\n",
       "      <td>9.0</td>\n",
       "      <td>9.0</td>\n",
       "      <td>10.0</td>\n",
       "      <td>29.0</td>\n",
       "      <td>1.90</td>\n",
       "    </tr>\n",
       "    <tr>\n",
       "      <th>beta[0]</th>\n",
       "      <td>0.000</td>\n",
       "      <td>1.098</td>\n",
       "      <td>-4.570</td>\n",
       "      <td>NaN</td>\n",
       "      <td>NaN</td>\n",
       "      <td>NaN</td>\n",
       "      <td>NaN</td>\n",
       "      <td>NaN</td>\n",
       "      <td>NaN</td>\n",
       "      <td>NaN</td>\n",
       "      <td>NaN</td>\n",
       "    </tr>\n",
       "    <tr>\n",
       "      <th>beta[1]</th>\n",
       "      <td>-0.636</td>\n",
       "      <td>1.993</td>\n",
       "      <td>-7.712</td>\n",
       "      <td>NaN</td>\n",
       "      <td>NaN</td>\n",
       "      <td>NaN</td>\n",
       "      <td>NaN</td>\n",
       "      <td>NaN</td>\n",
       "      <td>NaN</td>\n",
       "      <td>NaN</td>\n",
       "      <td>NaN</td>\n",
       "    </tr>\n",
       "    <tr>\n",
       "      <th>beta[2]</th>\n",
       "      <td>-0.291</td>\n",
       "      <td>1.169</td>\n",
       "      <td>-5.889</td>\n",
       "      <td>NaN</td>\n",
       "      <td>NaN</td>\n",
       "      <td>NaN</td>\n",
       "      <td>NaN</td>\n",
       "      <td>NaN</td>\n",
       "      <td>NaN</td>\n",
       "      <td>NaN</td>\n",
       "      <td>NaN</td>\n",
       "    </tr>\n",
       "    <tr>\n",
       "      <th>beta[3]</th>\n",
       "      <td>0.369</td>\n",
       "      <td>1.990</td>\n",
       "      <td>-6.811</td>\n",
       "      <td>NaN</td>\n",
       "      <td>NaN</td>\n",
       "      <td>NaN</td>\n",
       "      <td>NaN</td>\n",
       "      <td>NaN</td>\n",
       "      <td>NaN</td>\n",
       "      <td>NaN</td>\n",
       "      <td>NaN</td>\n",
       "    </tr>\n",
       "  </tbody>\n",
       "</table>\n",
       "</div>"
      ],
      "text/plain": [
       "               mean     sd  hpd_3%  hpd_97%  mcse_mean  mcse_sd  ess_mean  \\\n",
       "g             0.370  0.506  -1.634      NaN        NaN      NaN       NaN   \n",
       "sigma_actor   0.813  0.437   0.057      NaN        NaN      NaN       NaN   \n",
       "rho_actor[0]  0.612  0.338  -0.736      NaN        NaN      NaN       NaN   \n",
       "rho_actor[1]  0.291  0.397  -0.717      NaN        NaN      NaN       NaN   \n",
       "rho_actor[2]  0.241  0.332  -0.625      NaN        NaN      NaN       NaN   \n",
       "rho_actor[3]  0.151  0.280   0.000      NaN        NaN      NaN       NaN   \n",
       "sigma_block   1.390  0.974   0.056      NaN        NaN      NaN       NaN   \n",
       "rho_block[0]  0.279  0.548  -0.928      NaN        NaN      NaN       NaN   \n",
       "rho_block[1]  0.275  0.454  -0.857      NaN        NaN      NaN       NaN   \n",
       "rho_block[2]  0.171  0.407  -0.878      NaN        NaN      NaN       NaN   \n",
       "rho_block[3]  0.186  0.333   0.000      NaN        NaN      NaN       NaN   \n",
       "alpha[0]      0.083  0.670  -0.984    1.369      0.220    0.161       9.0   \n",
       "alpha[1]      0.072  0.435  -0.666    0.966      0.123    0.089      12.0   \n",
       "alpha[2]      0.189  1.276  -1.490    2.799      0.447    0.328       8.0   \n",
       "alpha[3]      0.237  1.123  -1.464    2.477      0.365    0.266       9.0   \n",
       "beta[0]       0.000  1.098  -4.570      NaN        NaN      NaN       NaN   \n",
       "beta[1]      -0.636  1.993  -7.712      NaN        NaN      NaN       NaN   \n",
       "beta[2]      -0.291  1.169  -5.889      NaN        NaN      NaN       NaN   \n",
       "beta[3]       0.369  1.990  -6.811      NaN        NaN      NaN       NaN   \n",
       "\n",
       "              ess_sd  ess_bulk  ess_tail  r_hat  \n",
       "g                NaN       NaN       NaN    NaN  \n",
       "sigma_actor      NaN       NaN       NaN    NaN  \n",
       "rho_actor[0]     NaN       NaN       NaN    NaN  \n",
       "rho_actor[1]     NaN       NaN       NaN    NaN  \n",
       "rho_actor[2]     NaN       NaN       NaN    NaN  \n",
       "rho_actor[3]     NaN       NaN       NaN    NaN  \n",
       "sigma_block      NaN       NaN       NaN    NaN  \n",
       "rho_block[0]     NaN       NaN       NaN    NaN  \n",
       "rho_block[1]     NaN       NaN       NaN    NaN  \n",
       "rho_block[2]     NaN       NaN       NaN    NaN  \n",
       "rho_block[3]     NaN       NaN       NaN    NaN  \n",
       "alpha[0]         9.0      10.0      60.0   1.81  \n",
       "alpha[1]        12.0      13.0      47.0   1.53  \n",
       "alpha[2]         8.0      10.0      31.0   1.95  \n",
       "alpha[3]         9.0      10.0      29.0   1.90  \n",
       "beta[0]          NaN       NaN       NaN    NaN  \n",
       "beta[1]          NaN       NaN       NaN    NaN  \n",
       "beta[2]          NaN       NaN       NaN    NaN  \n",
       "beta[3]          NaN       NaN       NaN    NaN  "
      ]
     },
     "execution_count": 31,
     "metadata": {},
     "output_type": "execute_result"
    }
   ],
   "source": [
    "az.summary(trace_14_2)"
   ]
  },
  {
   "cell_type": "code",
   "execution_count": null,
   "metadata": {},
   "outputs": [],
   "source": []
  }
 ],
 "metadata": {
  "kernelspec": {
   "display_name": "Python 3",
   "language": "python",
   "name": "python3"
  },
  "language_info": {
   "codemirror_mode": {
    "name": "ipython",
    "version": 3
   },
   "file_extension": ".py",
   "mimetype": "text/x-python",
   "name": "python",
   "nbconvert_exporter": "python",
   "pygments_lexer": "ipython3",
   "version": "3.7.4"
  },
  "toc": {
   "base_numbering": 1,
   "nav_menu": {},
   "number_sections": true,
   "sideBar": true,
   "skip_h1_title": false,
   "title_cell": "Table of Contents",
   "title_sidebar": "Contents",
   "toc_cell": false,
   "toc_position": {},
   "toc_section_display": true,
   "toc_window_display": false
  }
 },
 "nbformat": 4,
 "nbformat_minor": 4
}
